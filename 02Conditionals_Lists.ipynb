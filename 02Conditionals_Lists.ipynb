{
  "nbformat": 4,
  "nbformat_minor": 0,
  "metadata": {
    "kernelspec": {
      "display_name": "Python 3",
      "language": "python",
      "name": "python3"
    },
    "language_info": {
      "codemirror_mode": {
        "name": "ipython",
        "version": 3
      },
      "file_extension": ".py",
      "mimetype": "text/x-python",
      "name": "python",
      "nbconvert_exporter": "python",
      "pygments_lexer": "ipython3",
      "version": "3.6.10"
    },
    "colab": {
      "name": "02Conditionals_Lists.ipynb",
      "provenance": [],
      "collapsed_sections": [],
      "include_colab_link": true
    }
  },
  "cells": [
    {
      "cell_type": "markdown",
      "metadata": {
        "id": "view-in-github",
        "colab_type": "text"
      },
      "source": [
        "<a href=\"https://colab.research.google.com/github/weymouth/MarineHydro/blob/master/02Conditionals_Lists.ipynb\" target=\"_parent\"><img src=\"https://colab.research.google.com/assets/colab-badge.svg\" alt=\"Open In Colab\"/></a>"
      ]
    },
    {
      "cell_type": "markdown",
      "metadata": {
        "id": "umNbE5lyd6bT"
      },
      "source": [
        "# Conditionals and Lists in Python\n",
        "\n",
        "We now have the basic building blocks of variables, operations and functions in Python, allowing us to perform a wide range of calculations. However, adding conditionals and lists to our Python capabilities will greatly increase the range of engineering problems we can solve.\n",
        "\n",
        "![Towing tank](https://cdn.southampton.ac.uk/assets/imported/transforms/content-block/CB_RImg/19677430F8FD415F823DAC20DFE72BBE/DSCF0072-banner.jpg_SIA_JPG_background_image.jpg)\n",
        "\n",
        "As an example to guide this notebook, we will determining wave conditions in an experimental tank such as the Bolderwood towing tank in the image above."
      ]
    },
    {
      "cell_type": "markdown",
      "metadata": {
        "id": "Pp-tpCmAd6bW"
      },
      "source": [
        "# Booleans and Conditionals\n",
        "\n",
        "You can test the value of a variable and use this to control the execution of a program using conditional statements. "
      ]
    },
    {
      "cell_type": "markdown",
      "metadata": {
        "id": "vNcd5wzHd6bW"
      },
      "source": [
        "## Booleans\n",
        "\n",
        "In Pythons the values `True` and `False` are built-in Boolean objects. We can build up logical conditions and tests and the result will be one of these objects. Predict what the logical statements below will print. Then test your predictions by using the \"play\" button or pressing [shift]-[enter]."
      ]
    },
    {
      "cell_type": "code",
      "metadata": {
        "id": "5blI8MIRd6bW"
      },
      "source": [
        "a = True\n",
        "b = True\n",
        "c = False\n",
        "print(type(a))\n",
        "print( not a )\n",
        "print( a and b )\n",
        "print( a and c )\n",
        "print( a or c )\n",
        "print( not a or (c or b) )"
      ],
      "execution_count": null,
      "outputs": []
    },
    {
      "cell_type": "markdown",
      "metadata": {
        "id": "eVKg9cvjpVA8"
      },
      "source": [
        "In numerical programming and analysis, Booleans typically occur when testing the relationship between two numbers using boolean operators\n",
        "\n",
        "| Operation     | Description                       || Operation     | Description                          |\n",
        "|---------------|-----------------------------------||---------------|--------------------------------------|\n",
        "| ``a == b``    | ``a`` equal to ``b``              || ``a != b``    | ``a`` not equal to ``b``             |\n",
        "| ``a < b``     | ``a`` less than ``b``             || ``a > b``     | ``a`` greater than ``b``             |\n",
        "| ``a <= b``    | ``a`` less than or equal to ``b`` || ``a >= b``    | ``a`` greater than or equal to ``b`` |\n",
        "\n",
        "Like before, try to guess what these condional operations will return before running the code block below:"
      ]
    },
    {
      "cell_type": "code",
      "metadata": {
        "id": "QUy5tSUWd6bW"
      },
      "source": [
        "print( 5 == 5 )\n",
        "print( 5. != 5 )\n",
        "print( 'five' == 5 )\n",
        "print( 10/2 != 25**(.5) )\n",
        "\n",
        "print( 4 >= 4 )\n",
        "print( 4+1/1000000 > 4 )\n",
        "print( (4+1)/10000 >= 4 )\n",
        "\n",
        "print( 4>=5 or 5>=4 )"
      ],
      "execution_count": null,
      "outputs": []
    },
    {
      "cell_type": "markdown",
      "metadata": {
        "id": "jZSvwD-sH8FW"
      },
      "source": [
        "And, not surprisingly, you can also write functions to evaluate boolean checks. A classic example is to check if a number is even or odd using the mod operator:"
      ]
    },
    {
      "cell_type": "code",
      "metadata": {
        "id": "TFyJDABLvlQg"
      },
      "source": [
        "def is_odd(i):\n",
        "  return i%2==1\n",
        "\n",
        "for i in range(4):\n",
        "  print(\"The number {} is odd: {}\".format(i,is_odd(i)))"
      ],
      "execution_count": null,
      "outputs": []
    },
    {
      "cell_type": "markdown",
      "metadata": {
        "id": "2e9FWp7jGCCH"
      },
      "source": [
        "As you can see, this correctly identifies even and odd digits.\n",
        "\n",
        "As usual, I'm sneaking in a few more ideas into this example. In this case, I've used a [format statement](https://www.w3schools.com/python/ref_string_format.asp) to insert the number we were checking `i` and the output of the function `is_odd(i)` into a string and then print it. This is just \"for looks\" in this case, but it is a nice technique to know."
      ]
    },
    {
      "cell_type": "markdown",
      "metadata": {
        "id": "UHO4JaEZd6bX"
      },
      "source": [
        "## Conditional statements\n",
        "\n",
        "One of the more powerful aspects of numerical programming is derived by combining booleans with conditional statements like `if`. The following example shows the syntax for a python `if` statement."
      ]
    },
    {
      "cell_type": "code",
      "metadata": {
        "id": "LDlkHYtMK4o4"
      },
      "source": [
        "def describe_number(n):\n",
        "  if is_odd(n):\n",
        "    print(n,' is odd.')\n",
        "  elif n>0:\n",
        "    print(n,' is even and greater than 0.')\n",
        "  else:\n",
        "    print(n,' is even and not greater than 0.')\n",
        "\n",
        "for n in range(-2,3):\n",
        "  describe_number(n)"
      ],
      "execution_count": null,
      "outputs": []
    },
    {
      "cell_type": "markdown",
      "metadata": {
        "id": "D38jk4E1QDte"
      },
      "source": [
        "This function uses a different print statement based on the properties of the number. In numerical computing we often use these code \"branches\" to choose different formulas depending on the input. \n",
        "\n",
        "**Example:** The towing take has a wave maker and we need to know how long those waves will be $\\lambda$ as a function of the frequency of the wave maker paddle $\\omega$ and the depth of the tank $h$. There is a simple formula for this, but it only holds in deep water,\n",
        "\n",
        "$$ \\lambda = \\frac{2\\pi g}{\\omega^2} \\quad \\text{if}\\quad \\lambda < 2h $$\n",
        "\n",
        "where $g$ is the acceleration of gravity. If the wave is too long, we need to use a more general form of the dispersion relationship which we will look at later. \n",
        "\n",
        "So let's write a function for this problem"
      ]
    },
    {
      "cell_type": "code",
      "metadata": {
        "id": "nAxFcm1id6bX"
      },
      "source": [
        "def deep_wavelength(omega):\n",
        "  # omega needs to be given in rad/s.\n",
        "  g = 9.81 # m/s**2\n",
        "  pi = 3.14159\n",
        "  return 2*pi*g/omega**2 # length in m\n",
        "\n",
        "def check_wavelength(omega,h=3):\n",
        "  # omega needs to be given in rad/s and h in m.\n",
        "  l = deep_wavelength(omega)\n",
        "  if l>2*h:\n",
        "    print('Wave is too long for the deep water formula ' \n",
        "          'when omega = {} rad/s and h = {} m.'.format(omega,h))\n",
        "  else:\n",
        "    print(\"Wavelength is {:.3g} m when omega = {} rad/s\".format(l,omega))\n",
        "\n",
        "for omega in range(2,8):\n",
        "  check_wavelength(omega)"
      ],
      "execution_count": null,
      "outputs": []
    },
    {
      "cell_type": "markdown",
      "metadata": {
        "id": "tGxaQmhbd6bX"
      },
      "source": [
        "In the first function computes the deep water wavelength and the second either prints that length or that it isn't valid. \n",
        "\n",
        "Note that I have set `h=3` in the first line (the _header_) of `check_wavelength`. This makes `h` an _optional argument_ with a default value of 3 (since our wavetank is $3 \\text{m}$ deep). So `check_wavelength(10)==check_wavelength(10,3)`. In the function body I compute the value of wavelength by calling the deep water function. Then I check to make sure that formula was valid, and print the appropriate statement using `if-else`. The only new syntax here is in the last print statement: `{:.3g}` converts the float `l` to a string with 3 significant digits."
      ]
    },
    {
      "cell_type": "markdown",
      "metadata": {
        "id": "8Evvl1Hno6SR"
      },
      "source": [
        "# Lists\n",
        "\n",
        "A collection of variables can be grouped together in many types of [data structures](https://docs.python.org/3/tutorial/datastructures.html) in Python. In this notebook we focus on lists.\n",
        "\n",
        "A list in python is just sequence of variables. We've had many examples now that use `range()` to make a list of integers, but there are many more choices. For example"
      ]
    },
    {
      "cell_type": "code",
      "metadata": {
        "id": "nxRYJg81obN-"
      },
      "source": [
        "primes = [2,3,5,7,11,13,17]\n",
        "primes"
      ],
      "execution_count": null,
      "outputs": []
    },
    {
      "cell_type": "code",
      "metadata": {
        "id": "IqCpvQ8Ji-C-"
      },
      "source": [
        "single_name_singers = [\"Prince\",\"P!nk\",\"Enimem\",\"Rhianna\",\"Madonna\",\"Beyonc\\u00E9\"]\n",
        "single_name_singers"
      ],
      "execution_count": null,
      "outputs": []
    },
    {
      "cell_type": "markdown",
      "metadata": {
        "id": "46bnfwGklTC_"
      },
      "source": [
        "(Note the use of unicode to get the _grave_ in Beyoncé.)\n",
        "\n",
        "The format for a list is to enclose the items in square brackets `[ ]` and separate them with parathesis. If nothing goes inside, you just get an empty list."
      ]
    },
    {
      "cell_type": "code",
      "metadata": {
        "id": "PvTOvlr7kdQ1"
      },
      "source": [
        "empty = []\n",
        "empty"
      ],
      "execution_count": null,
      "outputs": []
    },
    {
      "cell_type": "markdown",
      "metadata": {
        "id": "eMWa3QTZlvv9"
      },
      "source": [
        "And you can loop through the items in any list just as we've done before using `for-in`"
      ]
    },
    {
      "cell_type": "code",
      "metadata": {
        "id": "u7DuuRHglnEO"
      },
      "source": [
        "for name in single_name_singers:\n",
        "  print(name)"
      ],
      "execution_count": null,
      "outputs": []
    },
    {
      "cell_type": "code",
      "metadata": {
        "id": "6qHYYP40p_D7"
      },
      "source": [
        "for i in range(10):\n",
        "  if(i in primes):\n",
        "    print(i,' is prime')"
      ],
      "execution_count": null,
      "outputs": []
    },
    {
      "cell_type": "markdown",
      "metadata": {
        "id": "o_om2FiarQL3"
      },
      "source": [
        "## Sublists\n",
        "\n",
        "But we don't need to go through all the items in a list. We can also _index_ a particular item we want, or loop through a _slice_ of a list. \n",
        "\n",
        "Python used 0-based indexing so the first item is has index 0, the second has index 1 and so on."
      ]
    },
    {
      "cell_type": "code",
      "metadata": {
        "id": "n6NkwJyLtf8k"
      },
      "source": [
        "print(primes[0])\n",
        "print(primes[1])"
      ],
      "execution_count": null,
      "outputs": []
    },
    {
      "cell_type": "markdown",
      "metadata": {
        "id": "TS7Z8JPOt2if"
      },
      "source": [
        "So what is the index of the **last** item in our list of primes? Modify the code above to check your math. \n",
        "\n",
        "You can also count backwards through a list. Guess what the results before you run this cell:"
      ]
    },
    {
      "cell_type": "code",
      "metadata": {
        "id": "IrYXqrnIueNp"
      },
      "source": [
        "print(primes[-1])\n",
        "print(primes[-2])"
      ],
      "execution_count": null,
      "outputs": []
    },
    {
      "cell_type": "markdown",
      "metadata": {
        "id": "2fLXAGAYuq5_"
      },
      "source": [
        "Finally, we can select only part of an array, a *slice*. Who are the first three singers in the list? "
      ]
    },
    {
      "cell_type": "code",
      "metadata": {
        "id": "jSGEla4Nu_7f"
      },
      "source": [
        "single_name_singers[0:3]"
      ],
      "execution_count": null,
      "outputs": []
    },
    {
      "cell_type": "markdown",
      "metadata": {
        "id": "ZUIn5chWvazV"
      },
      "source": [
        "Try some more advanced slicing on your own to get the sublists suggested below."
      ]
    },
    {
      "cell_type": "code",
      "metadata": {
        "id": "5HgUzSy2vNsJ"
      },
      "source": [
        "# Slice to give the last three singers\n",
        "# Slice to give every other prime, starting at 3"
      ],
      "execution_count": null,
      "outputs": []
    },
    {
      "cell_type": "markdown",
      "metadata": {
        "id": "XgmLflSXnwct"
      },
      "source": [
        "## Functions and methods\n",
        "\n",
        "There are many potentially helpful functions that can applied to lists. I've summarized a few below:\n",
        "\n"
      ]
    },
    {
      "cell_type": "code",
      "metadata": {
        "id": "7Emcc8ZqxyD9"
      },
      "source": [
        "print(len(single_name_singers))    # length of a list\n",
        "print(sorted(single_name_singers)) # sort a list\n",
        "print(sum(primes),\",\",max(primes)) # sum and max of a list"
      ],
      "execution_count": null,
      "outputs": []
    },
    {
      "cell_type": "markdown",
      "metadata": {
        "id": "0fqr2hf1zRGk"
      },
      "source": [
        "There are also special functions \"attached\" to any list. Functions like this are called _methods_. (This is [object oriented programming](https://realpython.com/python3-object-oriented-programming/) termonology - but we don't need the details for now.) \n",
        "\n",
        "For example, we find the index for a given value using the `index` method"
      ]
    },
    {
      "cell_type": "code",
      "metadata": {
        "id": "cWFmzGJuzQxi"
      },
      "source": [
        "i = primes.index(7)\n",
        "print(i,primes[i]==7)"
      ],
      "execution_count": null,
      "outputs": []
    },
    {
      "cell_type": "markdown",
      "metadata": {
        "id": "eEm8_wFKz_5F"
      },
      "source": [
        "Which shows that 7 is at index 3, agreeing with our slicing above.\n",
        "\n",
        "Note that the format of calling a method is different than a regular function. We write the object, then a dot, then the name of the method, then the arguments in parethesis. In this example `prime` is the object, `index` is the method, and `7` was the argument. The `format` statement is also a method. In the code `\"I am {} years old\".format(19)`, the string is the object, `format` is the method and `19` is the argument."
      ]
    },
    {
      "cell_type": "markdown",
      "metadata": {
        "id": "HZj4f8RpzEb2"
      },
      "source": [
        "## List comprehensions\n",
        "\n",
        "Instead of printing our wavelengths to the screen, let's make a list of them, so we can use them for other parts of our program later. The best way to do this is using a _list comprehension_. Basically, we loop through one list to create a new one. "
      ]
    },
    {
      "cell_type": "code",
      "metadata": {
        "id": "HhJ7Zn_U3u67"
      },
      "source": [
        "omega_list = range(1,20)\n",
        "wavelengths_list = [deep_wavelength(omega) for omega in omega_list]\n",
        "wavelengths_list"
      ],
      "execution_count": null,
      "outputs": []
    },
    {
      "cell_type": "markdown",
      "metadata": {
        "id": "UboDdCJ28UFQ"
      },
      "source": [
        "Let's also make a list of the frequencies in cycles per second."
      ]
    },
    {
      "cell_type": "code",
      "metadata": {
        "id": "VKFTqLXh6CUG"
      },
      "source": [
        "freq_list = [omega/(2*3.14159) for omega in omega_list]\n",
        "freq_list"
      ],
      "execution_count": null,
      "outputs": []
    },
    {
      "cell_type": "markdown",
      "metadata": {
        "id": "qo3q5Vpw8hUH"
      },
      "source": [
        "Finally, let's print these lists together, but only for waves that are short enough to be valid \"deep water\" waves and for $f<2\\text{Hz}$ to avoid overstressing the wavemaker hydraulics."
      ]
    },
    {
      "cell_type": "code",
      "metadata": {
        "id": "WAi8Dzzg8hjf"
      },
      "source": [
        "for freq,wavelength in zip(freq_list,wavelength_list):\n",
        "  if(wavelength<6 and freq<2):\n",
        "    print(\"{:.3g} Hz| {:.3g} m\".format(freq,wavelength))"
      ],
      "execution_count": null,
      "outputs": []
    },
    {
      "cell_type": "markdown",
      "metadata": {
        "id": "3Haa6ZIa-T_T"
      },
      "source": [
        "Where I've used the `zip` function to join together the two equal length lists and so I can loop through them simultaneously."
      ]
    },
    {
      "cell_type": "code",
      "metadata": {
        "id": "iEaqq9Bd-m28"
      },
      "source": [
        ""
      ],
      "execution_count": null,
      "outputs": []
    }
  ]
}