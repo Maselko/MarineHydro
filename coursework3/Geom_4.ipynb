{
 "cells": [
  {
   "cell_type": "markdown",
   "metadata": {},
   "source": [
    "## Project 4: Truncated AUV\n",
    "\n",
    "#### 2D analysis of a truncated wing shaped AUV\n",
    "\n",
    "![Truncated foil section stolen from bike advert](truncated_foil.jpeg)\n",
    "\n",
    "---\n",
    "\n",
    "##### Geometry\n",
    "\n",
    "AUVs need to be low drag but also easy to store and manage on-deck. A suggested design is a foil section, originally of length $c$, with the trailing edge truncated by a length $p$. The new length is $c'=c-p$ and the resulting width at the point of truncation is $2y_p$. You can choose one of the foil sections we looked at in the module or find an alternative in the literature (some level of approximation in that case is fine). The original thickness is $t=0.15 c$.\n",
    "\n",
    "##### Parametric study \n",
    "\n",
    "You will study the impact of the cut-off length $p$ versus the original length $c$. Use as many values as you need to identify the trends in the range $0\\le p/c\\le 0.75$. Make sure the geometry and resulting flow are reasonable across the parameter range.\n",
    "\n",
    "##### Performance metrics\n",
    "\n",
    "Predict drag on the mast and the point of separation $x/c$ on the top and bottom surfaces over the parameter range. Try plotting the forces against $p/c$ or another factor which might help the analysis. Determine the added mass of the section when moving in $x,y$ over the parameter range. Make sure to explain and validate any code you develop for these metrics.\n",
    "\n",
    "##### Discussion\n",
    "\n",
    "Discuss how you could use your results to determine the optimal values of $p$ and $c$ for a given a maximum storage length $c'$. Discuss the advantages and limitations of this analysis. "
   ]
  },
  {
   "cell_type": "code",
   "execution_count": null,
   "metadata": {
    "collapsed": true
   },
   "outputs": [],
   "source": []
  }
 ],
 "metadata": {
  "kernelspec": {
   "display_name": "Python 2",
   "language": "python",
   "name": "python2"
  },
  "language_info": {
   "codemirror_mode": {
    "name": "ipython",
    "version": 2
   },
   "file_extension": ".py",
   "mimetype": "text/x-python",
   "name": "python",
   "nbconvert_exporter": "python",
   "pygments_lexer": "ipython2",
   "version": "2.7.10"
  }
 },
 "nbformat": 4,
 "nbformat_minor": 1
}
