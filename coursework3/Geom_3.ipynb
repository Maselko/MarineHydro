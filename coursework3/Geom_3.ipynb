{
 "cells": [
  {
   "cell_type": "markdown",
   "metadata": {},
   "source": [
    "## Project 3: Double-body AUV\n",
    "\n",
    "#### 2D analysis of prototype AUV\n",
    "\n",
    "![Underwater image](seabed.png)\n",
    "\n",
    "---\n",
    "\n",
    "##### Geometry\n",
    "\n",
    "The AUV will be modeled as two symmetric hulls aligned vertically. Design an appropriate hull geometry with an aspect ratio of $c/t=8$ and a 2D block coefficient of $A/(t*c)\\ge 0.8$.\n",
    "\n",
    "##### Parametric study \n",
    "\n",
    "You will study the impact of the vertical gap between the hulls $g$ versus the hull chord $c$  while keeping the hull design fixed. Use as many values as you need to identify the trends in the range  $0.1 \\le g/c \\le 5$. Make sure the geometry and resulting flow are reasonable across the parameter range.\n",
    "\n",
    "##### Performance metrics\n",
    "\n",
    "Predict the total drag on the body and the tension force between the upper and lower hulls over the parameter range. Predict the added mass of the AUV when moving in $x$ and $y$ over the parameter range. Make sure to explain and validate any code you develop for these metrics.\n",
    "\n",
    "##### Discussion\n",
    "\n",
    "Discuss how you could use your results to determine the optimal $g/c$ for the AUV. Discuss what other factors might be important. Discuss the advantages and limitations of this analysis. "
   ]
  },
  {
   "cell_type": "code",
   "execution_count": null,
   "metadata": {
    "collapsed": true
   },
   "outputs": [],
   "source": []
  }
 ],
 "metadata": {
  "kernelspec": {
   "display_name": "Python 2",
   "language": "python",
   "name": "python2"
  },
  "language_info": {
   "codemirror_mode": {
    "name": "ipython",
    "version": 2
   },
   "file_extension": ".py",
   "mimetype": "text/x-python",
   "name": "python",
   "nbconvert_exporter": "python",
   "pygments_lexer": "ipython2",
   "version": "2.7.10"
  }
 },
 "nbformat": 4,
 "nbformat_minor": 1
}
