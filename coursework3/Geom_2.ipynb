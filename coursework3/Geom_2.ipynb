{
 "cells": [
  {
   "cell_type": "markdown",
   "metadata": {},
   "source": [
    "## Project 2: Hydrofoil\n",
    "\n",
    "#### Cambered foil comparative analysis\n",
    "\n",
    "![Any of these could be used](hydrofoil.jpg)\n",
    "\n",
    "---\n",
    "\n",
    "##### Geometry\n",
    "\n",
    "The hydrofoil will be modeled as a cambered 2D foil section. You should not use the Jukowski section we looked at in the module for your final application (but could use it for validation). You can find many sections in the literature and some level of approximation of the geometry is fine. Keep $t/c=0.15$ for all foils to facilitate comparison.\n",
    "\n",
    "##### Parametric study \n",
    "\n",
    "You will study the impact of the maximum camber $m$ scaled by the chord $c$ while keeping the other section properties fixed. Use as many values as you need to identify the trends in the range $0\\le m/c\\le 10\\%$. Make sure the geometry and resulting flow are reasonable across the parameter range.\n",
    "\n",
    "##### Performance metrics\n",
    "\n",
    "Predict the total lift and drag on the foil and the point of separation $x/c$ on the upper and lower surfaces over the parameter range and $\\alpha \\leq 10^o$. Compare the cambered foil to symmetric foil results. Determine the added mass of the foil due to motion in $x$ and $y$ over the parameter range. Make sure to explain and validate any code you develop for these metrics.\n",
    "\n",
    "##### Discussion\n",
    "\n",
    "Discuss how you could use your results to determine the optimal $m/c$ for the hydrofoil given a particular hull weight and speed. Discuss if camber or angle of attack is the better choice for a hydrofoil. Discuss the advantages and limitations of this analysis. "
   ]
  },
  {
   "cell_type": "code",
   "execution_count": null,
   "metadata": {
    "collapsed": true
   },
   "outputs": [],
   "source": []
  }
 ],
 "metadata": {
  "kernelspec": {
   "display_name": "Python 2",
   "language": "python",
   "name": "python2"
  },
  "language_info": {
   "codemirror_mode": {
    "name": "ipython",
    "version": 2
   },
   "file_extension": ".py",
   "mimetype": "text/x-python",
   "name": "python",
   "nbconvert_exporter": "python",
   "pygments_lexer": "ipython2",
   "version": "2.7.10"
  }
 },
 "nbformat": 4,
 "nbformat_minor": 1
}
