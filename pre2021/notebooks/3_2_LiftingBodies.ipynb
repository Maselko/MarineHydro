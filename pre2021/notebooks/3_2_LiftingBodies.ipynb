{
 "cells": [
  {
   "cell_type": "markdown",
   "metadata": {},
   "source": [
    "# Lifting bodies\n",
    "\n",
    "This section will modify the vortex panel method to enable the prediction of lift on wing sections."
   ]
  },
  {
   "cell_type": "markdown",
   "metadata": {},
   "source": [
    "## Foil section geometry\n",
    "\n",
    "To find the lift on a foil, we first need to define the geometry. Let's use a symmetric Jukowski foil for now. This foil shape is obtained by applying the following mapping\n",
    "\n",
    "$$ x' = \\frac x2 (1+1/r^2), \\quad y' = \\frac y2 (1-1/r^2),\\quad r^2= x^2+y^2 $$\n",
    "\n",
    "to the points on a circle which intersects $x,y=1,0$. I've followed this procedure in the function `VortexPanel.make_jfoil`. Let's import that module as `vp` again:"
   ]
  },
  {
   "cell_type": "code",
   "execution_count": null,
   "metadata": {},
   "outputs": [],
   "source": [
    "import os\n",
    "import sys\n",
    "module_path = os.path.abspath(os.path.join('..'))\n",
    "if module_path not in sys.path:\n",
    "    sys.path.append(module_path)\n",
    "\n",
    "import numpy as np\n",
    "from matplotlib import pyplot as plt\n",
    "%matplotlib inline\n",
    "from vortexpanel import VortexPanel as vp\n",
    "help(vp.make_jfoil)"
   ]
  },
  {
   "cell_type": "markdown",
   "metadata": {},
   "source": [
    "The arguments are the number of points $N$ and the center of the circle before mapping. Let's test it out."
   ]
  },
  {
   "cell_type": "code",
   "execution_count": null,
   "metadata": {},
   "outputs": [],
   "source": [
    "foil = vp.make_jfoil(N=32)\n",
    "foil.plot()\n",
    "plt.axis('equal');"
   ]
  },
  {
   "cell_type": "markdown",
   "metadata": {},
   "source": [
    "##### Quiz\n",
    "\n",
    "How can you get a cambered (ie, curved) foil shape using the Jukowski transform?\n",
    "\n",
    "1. Shift the center right or left.\n",
    "1. Shift the center up or down.\n",
    "1. Change the circle's radius.\n",
    "---"
   ]
  },
  {
   "cell_type": "markdown",
   "metadata": {},
   "source": [
    "## Flows with circulation\n",
    "\n",
    "Now lets solve for the flow around the foil at an angle of attack $\\alpha$:"
   ]
  },
  {
   "cell_type": "code",
   "execution_count": null,
   "metadata": {},
   "outputs": [],
   "source": [
    "alpha = np.pi/16         # set angle of attack\n",
    "foil.solve_gamma(alpha)  # solve for gamma\n",
    "foil.plot_flow()         # plot the flow"
   ]
  },
  {
   "cell_type": "markdown",
   "metadata": {},
   "source": [
    "Sigh. There are so many things wrong with this picture...\n",
    "\n",
    " - The flow is faster on the underside of the foil. \n",
    " - The rear stagnation point is on the upper side of the foil.\n",
    " - There is a singularity on the lower side of the trailing edge.\n",
    "\n",
    "These are all physically incorrect! But how can setting the (physical) no-slip condition on each panel lead to non-physical results?\n",
    "\n",
    "##### Mathematics fundamental: Necessary but insufficient\n",
    "##### The no-slip condition is not sufficient to uniquely determine the flow around lifting bodies\n",
    "\n",
    "This means there are many (non-physical) solutions for this flow, one of which is given above."
   ]
  },
  {
   "cell_type": "markdown",
   "metadata": {},
   "source": [
    "## The Kutta condition\n",
    "\n",
    "We need an additional condition to determine the physical solution for this flow."
   ]
  },
  {
   "cell_type": "markdown",
   "metadata": {},
   "source": [
    "##### Quiz\n",
    "\n",
    "What does the flow need to look like on the trailing edge?\n",
    "\n",
    "![short](resources\\trailingEdge.png)\n",
    "\n",
    "1. The flow needs to wrap from the bottom to the top.\n",
    "1. The flow needs to wrap from the top to the bottom.\n",
    "1. The flow needs to separate from the edge. "
   ]
  },
  {
   "cell_type": "markdown",
   "metadata": {},
   "source": [
    "---\n",
    "The fundamental problem with the solution for the foil above is that the flow is wrapping around the sharp trailing edge. This means that particles traveling on the body streamline *instantly* change direction - which is impossible for any object with mass.\n",
    "\n",
    "Avoiding this impossibility is called the Kutta condition.\n",
    "\n",
    "##### Hydrodynamics fundamental: Kutta condition\n",
    "##### \"Potential flow must separate from a sharp trailing edge\"\n",
    "\n",
    "Look at the sketch above, we can see $\\gamma$ is antisymmetric about the trailing edge, ie $\\gamma(\\epsilon)+\\gamma(-\\epsilon)=0$. This additional condition uniquely determines the correct solution $\\gamma_i$. "
   ]
  },
  {
   "cell_type": "markdown",
   "metadata": {},
   "source": [
    "---\n",
    "\n",
    "The Kutta condition has already been added to the solver. You may have noticed that the `solve_gamma` function takes an optional `kutta` argument. This lets you define any number trailing edges (by a list of index pairs) and enforce the Kutta condition on them all.\n",
    "\n",
    "The trailing edge of the Jukowski foil is bordered by the first and last panels; ie, we want `kutta=[(0,N-1)]`. Lets, try it out!"
   ]
  },
  {
   "cell_type": "code",
   "execution_count": null,
   "metadata": {},
   "outputs": [],
   "source": [
    "foil = vp.make_jfoil(N=32)               # make the geom\n",
    "alpha = np.pi/16                         # set angle of attack\n",
    "foil.solve_gamma(alpha,kutta=[(0,-1)])   # solve\n",
    "foil.plot_flow()                         # plot"
   ]
  },
  {
   "cell_type": "markdown",
   "metadata": {},
   "source": [
    "The flow plot shows the correct qualitative features:\n",
    "- High speed flow on the top.\n",
    "- Slow flow on the trailing edge.\n",
    "- As $\\alpha$ is increased, the amount of circulation increases.\n",
    "\n",
    "To test if this function really does apply the Kutta condition, let's plot $s$ versus $\\gamma$, as in the last notebook:"
   ]
  },
  {
   "cell_type": "code",
   "execution_count": null,
   "metadata": {},
   "outputs": [],
   "source": [
    "alpha = np.pi/16                     # angle of attack\n",
    "foil = vp.make_jfoil(N=32)           # make geometry\n",
    "s = foil.distance()                  # distance array\n",
    "\n",
    "# solve without kutta and plot \n",
    "foil.solve_gamma(alpha)                 # solve\n",
    "gamma = foil.get_array('gamma')         # get\n",
    "plt.plot(s,gamma,label=\"No kutta\")      # plot\n",
    "\n",
    "# solve with kutta and plot\n",
    "foil.solve_gamma(alpha,kutta=[(0,-1)])  # solve\n",
    "gamma = foil.get_array('gamma')         # get\n",
    "plt.plot(s,gamma,label=\"With kutta\")    # plot\n",
    "\n",
    "# finish gamma(s) plot\n",
    "plt.legend()\n",
    "plt.xlabel(r'$s$', fontsize=20)\n",
    "plt.ylabel(r'$\\tilde\\gamma$', fontsize=20, rotation=0)\n",
    "plt.axhline(0,c='k',ls='--')\n",
    "plt.show()"
   ]
  },
  {
   "cell_type": "markdown",
   "metadata": {},
   "source": [
    "The Kutta condition __has__ been successfully enforced since $\\gamma(0)=-\\gamma(-1)$."
   ]
  },
  {
   "cell_type": "markdown",
   "metadata": {},
   "source": [
    "---\n",
    "\n",
    "## Lift force\n",
    "\n",
    "The lift force on any body in 2D potential flow is given by the total circulation:\n",
    "\n",
    "$$ L = -\\rho U \\Gamma = -\\rho U^2 \\tilde\\Gamma $$\n",
    "\n",
    "where $\\tilde\\Gamma=\\oint\\tilde\\gamma(s)ds$. Note that since we solve with $|U|=1$ our $\\gamma = \\tilde\\gamma$.\n",
    "\n",
    "We non-dimensionalize the lift as the lift coefficient\n",
    "\n",
    "$$ C_L =\\frac L{\\tfrac 12 \\rho U^2 c} $$\n",
    "\n",
    "where $c$ is the coord length, the distance from the leading to trailing edge. Note that the vortex panel\n"
   ]
  },
  {
   "cell_type": "markdown",
   "metadata": {},
   "source": [
    "---\n",
    "\n",
    "##### Quiz\n",
    "\n",
    "What is the expression for the lift coefficient in terms `gamma` and the panel half-width `S`?\n",
    "- `-sum(gamma)/(0.5*rho*c*U)`\n",
    "- `-sum(gamma*2*S)/(0.5*c)`\n",
    "- `-sum(gamma)*2*S/0.5*c*U`\n",
    "---\n",
    "\n",
    "Copy this code into the function below to measure the lift on our foil"
   ]
  },
  {
   "cell_type": "code",
   "execution_count": null,
   "metadata": {},
   "outputs": [],
   "source": [
    "def C_L(panels):\n",
    "    # panel attribute arrays\n",
    "    gamma, xc, S = panels.get_array('gamma','xc','S')\n",
    "\n",
    "    # chord length\n",
    "    c = max(xc)-min(xc)    \n",
    "    \n",
    "    # return the lift coefficient\n",
    "    \n",
    "print('The C_L={:.3g}'.format(C_L(foil)))"
   ]
  },
  {
   "cell_type": "markdown",
   "metadata": {},
   "source": [
    "##### Numerical fundamental: Validation\n",
    "##### Every piece of code must be tested against a known nontrivial example\n",
    "\n",
    "The reason I implemented a Jukowski foil is not because it is a great foil shape (it isn't). It is because there is an analytic solution which we can use for __validation__\n",
    "\n",
    "$$C_L = 2\\pi \\left(1+\\frac 4{3\\sqrt 3} \\frac tc \\right)\\sin\\alpha$$\n",
    "\n",
    "where $t/c$ is the thickness to coord ratio."
   ]
  },
  {
   "cell_type": "markdown",
   "metadata": {},
   "source": [
    "##### Your turn\n",
    "\n",
    " - ** Complete ** the function `solve_C_L` to compute $C_L$ for a `PanelArray` given an angle of attack. \n",
    " - ** Plot and Compare ** the numerical C_L for $\\alpha=0,\\ldots,15^o$ against the analytic solution.\n",
    " - ** Consider ** the results. Do they converge? Are they validated? \n",
    " - ** Finally ** Do they indicate the point of *stall*? Why or why not?"
   ]
  },
  {
   "cell_type": "code",
   "execution_count": null,
   "metadata": {},
   "outputs": [],
   "source": [
    "def solve_C_L(panels,alpha,kutta=[(0,-1)]):\n",
    "    # your code here\n",
    "    # return C_L\n",
    "\n",
    "# Test it here. Does it give the same number as above? Does the value change with alpha?..."
   ]
  },
  {
   "cell_type": "code",
   "execution_count": null,
   "metadata": {},
   "outputs": [],
   "source": [
    "def analytic_C_L(alpha,t_c=0.2355): # t/c of jfoil xcen=-0.1\n",
    "    return 2*np.pi*(1+t_c*4/(3*np.sqrt(3)))*np.sin(alpha)\n",
    "\n",
    "alpha_deg = np.linspace(0,15,6)\n",
    "alpha = alpha_deg*np.pi/180.\n",
    "plt.plot(alpha_deg,analytic_C_L(alpha), 'k', label='analytic')\n",
    "\n",
    "for N in 2**np.arange(7,2,-1):\n",
    "    foil = vp.make_jfoil(N=N)\n",
    "#     CL = [solve_C_L(foil,a) for a in alpha]\n",
    "#     plt.plot(alpha_deg, CL, '--',label=N)\n",
    "\n",
    "plt.legend(loc='lower right')\n",
    "plt.xlabel(r'$\\alpha$ (deg)', fontsize=15)\n",
    "plt.ylabel(r'$C_L$', fontsize=15, rotation=0)\n",
    "plt.yticks([0,1,2]);"
   ]
  },
  {
   "cell_type": "markdown",
   "metadata": {},
   "source": [
    "### Linear panels\n",
    "\n",
    "Up to this point, we've used panels with constant strength because they are simple and effective. Extending the method to use panels with linearly varying strength is only slightly more complex and much more accurate.\n",
    "\n",
    "![medium](resources\\panel_O2.png)\n",
    "\n",
    "We don't need to consider the detailed derivation (it is similar to the constant strength panels but with more terms). The important point is that the velocity function for a linearly varying strength panel can be written as\n",
    "\n",
    "$$\\vec u_i(x,y) = \\gamma_{i-1}(S)\\ \\vec f_i(x,y,-S)+\\gamma_i(S)\\ \\vec f_i(x,y,S)$$\n",
    "\n",
    "where $\\gamma_i(S)$ is the strength on the positive end of panel $i$, and $\\vec f_i(x,y,\\pm S)$ are two new influence functions. Just as with the constant-strength panel, the velocity depends __linearly__ on $\\gamma$, and for $N$ panels we have only $N$ unknowns. Therefore, we can construct an $N$ by $N$ linear system.\n",
    "\n",
    "---"
   ]
  },
  {
   "cell_type": "markdown",
   "metadata": {},
   "source": [
    "\n",
    "##### Quiz\n",
    "\n",
    "Approximately how many constant strength panels will we need to match the accuracy of $N$ linearly varying panels?\n",
    "\n",
    "1. $N$\n",
    "1. $2N$\n",
    "1. $N^2$\n",
    "\n",
    "---\n",
    "\n",
    "Find the answer yourself by using second order panels in the foil test above. Simply call `PanelArray.solve_gamma_O2` (thats a letter O, not a zero) instead of `solve_gamma`. This function has the same input arguments and the resulting panel array still works with `plot_flow`, `get_array`, etc.\n",
    "\n",
    "As you can see, the panels with linearly varying strength give a __much__ better result for a given $N$. This is because the error between the true analytic $\\gamma(s)$ and a piecewise constant approximation is $\\epsilon\\sim 1/N$, whereas it is $\\epsilon\\sim (1/N)^2$ for a piecewise linear approximation. Because of the exponent, this is called _second-order_ or _O(2)_ error. \n",
    "\n",
    "This is worth saying again: We are __massively__ reducing the error without solving __any__ extra equations!\n",
    "\n",
    "##### Numerical fundamental: O(2)\n",
    "##### Second-order methods are unreasonably effective\n",
    "\n",
    "This improvement is fairly general and second-order methods (or greater) should be used whenever possible. For example, the trapezoidal rule is a second order method."
   ]
  },
  {
   "cell_type": "code",
   "execution_count": null,
   "metadata": {},
   "outputs": [],
   "source": []
  }
 ],
 "metadata": {
  "kernelspec": {
   "display_name": "Python 3",
   "language": "python",
   "name": "python3"
  },
  "language_info": {
   "codemirror_mode": {
    "name": "ipython",
    "version": 3
   },
   "file_extension": ".py",
   "mimetype": "text/x-python",
   "name": "python",
   "nbconvert_exporter": "python",
   "pygments_lexer": "ipython3",
   "version": "3.6.0"
  }
 },
 "nbformat": 4,
 "nbformat_minor": 1
}
