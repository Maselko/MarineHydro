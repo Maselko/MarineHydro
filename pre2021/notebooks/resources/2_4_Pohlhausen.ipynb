{
 "cells": [
  {
   "cell_type": "code",
   "execution_count": 1,
   "metadata": {
    "collapsed": false
   },
   "outputs": [],
   "source": [
    "import numpy\n",
    "from matplotlib import pyplot\n",
    "size = 7\n",
    "%matplotlib inline"
   ]
  },
  {
   "cell_type": "markdown",
   "metadata": {},
   "source": [
    "## Definition of the Pohlhausen profile"
   ]
  },
  {
   "cell_type": "markdown",
   "metadata": {},
   "source": [
    "The Pohlhausen profile is used to generalize the flat plate profile to the case of curved boundaries or flows with external pressure graidients. The profile is defined as\n",
    "\n",
    "$$ \\frac u U = F(\\eta)+\\lambda G(\\eta) , \\quad \\eta=\\frac y\\delta$$\n",
    "\n",
    "where\n",
    "\n",
    "$$ F = 2\\eta-2\\eta^3+\\eta^4 $$\n",
    "$$ G = \\frac\\eta 6 (1-\\eta)^3 $$\n",
    "$$ \\lambda = \\frac {\\delta^2}\\nu \\frac{dU}{dx} $$\n",
    "\n",
    "This can be easly defined using a set of python functions"
   ]
  },
  {
   "cell_type": "code",
   "execution_count": 2,
   "metadata": {
    "collapsed": false
   },
   "outputs": [],
   "source": [
    "def pohlF(eta):\n",
    "    return 2*eta-2*eta**3+eta**4\n",
    "def pohlG(eta):\n",
    "    return eta/6*(1-eta)**3\n",
    "def pohl(eta,lam):\n",
    "    return pohlF(eta)+lam*pohlG(eta)"
   ]
  },
  {
   "cell_type": "markdown",
   "metadata": {},
   "source": [
    "Let's take a look at how this changes with $\\lambda$."
   ]
  },
  {
   "cell_type": "code",
   "execution_count": 3,
   "metadata": {
    "collapsed": false
   },
   "outputs": [],
   "source": [
    "def pohlPlot(lam):\n",
    "    pyplot.figure(figsize=(size,size))\n",
    "    pyplot.xlabel('u/U', fontsize=16)\n",
    "    pyplot.axis([-0.1,1.1,0,1])\n",
    "    pyplot.ylabel('y/del', fontsize=16)\n",
    "    eta = numpy.linspace(0.0,1.0,100)\n",
    "    pyplot.plot(pohlF(eta),eta, lw=1, color='black')\n",
    "    pyplot.plot(pohl(eta,lam),eta, lw=2, color='green')"
   ]
  },
  {
   "cell_type": "markdown",
   "metadata": {},
   "source": [
    "**Change `lam` below to see how the profile changes compared to the flat plate value.** "
   ]
  },
  {
   "cell_type": "code",
   "execution_count": 4,
   "metadata": {
    "collapsed": false
   },
   "outputs": [
    {
     "data": {
      "image/png": "[encoded data removed]",
      "text/plain": [
       "<matplotlib.figure.Figure at 0x1120ae810>"
      ]
     },
     "metadata": {},
     "output_type": "display_data"
    }
   ],
   "source": [
    "pohlPlot(lam=7)"
   ]
  },
  {
   "cell_type": "markdown",
   "metadata": {},
   "source": [
    "We see $\\lambda=-12$ is a special point at which the profile has zero derivative at the wall, ie $\\tau_w=0$."
   ]
  },
  {
   "cell_type": "markdown",
   "metadata": {},
   "source": [
    "## Pohlhausen profile characteristics"
   ]
  },
  {
   "cell_type": "markdown",
   "metadata": {},
   "source": [
    "We can easily define the characteristics of the Pohlhausen profile analytically. The displacement thickness is:\n",
    "\n",
    "$$\\delta_1 = \\int_0^\\delta \\left(1-\\frac uU\\right)dy = \\delta \\left(1-\\int_0^1 F(\\eta) d\\eta-\\lambda \\int_0^1G(\\eta) d\\eta \\right)  $$\n",
    "$$\\frac{\\delta_1}\\delta = 1-[1-1/2+1/5]+\\lambda/6[1/2-1+3/4-1/5] = \\frac 3{10}-\\frac\\lambda{120}$$\n",
    "\n",
    "The momentum thickness is:\n",
    "\n",
    "$$\\delta_2 = \\int_0^\\delta \\frac uU\\left(1-\\frac uU\\right)dy = \\delta \\left(\\int_0^1 F-F^2+\\lambda(G-FG)-(\\lambda G)^2 d\\eta\\right)  $$\n",
    "$$\\frac{\\delta_2}\\delta = \\frac{37}{315}-\\frac\\lambda{945}-\\frac{\\lambda^2}{9072}$$\n",
    "\n",
    "And the friction coefficient is:\n",
    "\n",
    "$$\\frac 12 c_f = \\frac\\nu{U^2}\\frac{\\partial u}{\\partial y} = \\frac\\nu{U\\delta}\\frac{\\partial}{\\partial\\eta}( F+\\lambda G)$$\n",
    "$$\\frac 12 c_f = \\frac\\nu{U\\delta}\\left(2+\\frac\\lambda 6\\right)$$"
   ]
  },
  {
   "cell_type": "markdown",
   "metadata": {},
   "source": [
    "## Determining the separation point"
   ]
  },
  {
   "cell_type": "markdown",
   "metadata": {},
   "source": [
    "To determine $\\lambda$, and find if/when $\\lambda=-12$, we use the momentum integral equation\n",
    "\n",
    "$$ \\frac 12 c_f = \\frac {\\delta_1 + 2\\delta_2}U\\frac{dU}{dx}+\\frac{d\\delta_2}{dx}$$\n",
    "\n",
    "where we substitute the values for $\\delta_1,\\delta_2$ and $\\frac 12 c_f$ from above using $\\lambda=\\delta^2 U'/\\nu$ . The result is an equation that we can integrate (numerically) from the leading stagnation point, given an initial condition."
   ]
  }
 ],
 "metadata": {
  "kernelspec": {
   "display_name": "Python 2",
   "language": "python",
   "name": "python2"
  },
  "language_info": {
   "codemirror_mode": {
    "name": "ipython",
    "version": 2
   },
   "file_extension": ".py",
   "mimetype": "text/x-python",
   "name": "python",
   "nbconvert_exporter": "python",
   "pygments_lexer": "ipython2",
   "version": "2.7.10"
  }
 },
 "nbformat": 4,
 "nbformat_minor": 0
}
