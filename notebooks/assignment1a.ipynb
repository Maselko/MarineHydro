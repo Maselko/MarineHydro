{
 "cells": [
  {
   "cell_type": "markdown",
   "metadata": {},
   "source": [
    "# Assignment 1(a): Roll added-inertia of a submerged body\n",
    "\n",
    "## Note: This assignment is incomplete and subject to change\n",
    "\n",
    "You will use the functions from the panel method notebook to check the data from the roll damping lab and predict the damping characteristics of a 2D ship section across a range of parameters.\n",
    "\n",
    "1. Determine the normal velocity $\\vec U \\cdot \\hat n$ at a point $(x,y)$ due to roll motion in $z$ around the point $(x_m,y_m)$. Briefly explain why this is the RHS of the equation $\\mathbf{A q_6=b_6}$, where $\\mathbf{A}$ is the normal-velocity influence matrix, and $\\mathbf{q_6}$ is the panel source strength vector. Determine the equation for the roll added inertia $m_{66}$ in terms of these vectors and the potential influence function $F^\\phi$.\n",
    "\n",
    "1. Write a function `roll(x,y,xm=0,ym=0)` which takes in an array of section coordinates `x,y` and a center of roll motion `(xm,ym)` and returns the roll source strength $\\mathbf{q_6}$ and added inertia $m_{66}$. Validate the `roll` function by comparing to a known exact $m_{66}$ value for a fully submerged shape. Clearly cite your source, determine the number of panels required to achieve 1% error and plot the flow on the shape. \n"
   ]
  },
  {
   "cell_type": "code",
   "execution_count": null,
   "metadata": {},
   "outputs": [],
   "source": [
    "# Import functions\n",
    "import os\n",
    "import sys\n",
    "module_path = os.path.abspath(os.path.join('..'))\n",
    "if module_path not in sys.path:\n",
    "    sys.path.append(module_path)\n",
    "from src.GreensFunction import *\n",
    "from src.GeometriesAndPlots import *"
   ]
  },
  {
   "cell_type": "code",
   "execution_count": null,
   "metadata": {},
   "outputs": [],
   "source": [
    "# Complete function\n",
    "# def roll(x,y,xb=0,yb=0):\n",
    "#     return q6,m66\n",
    "\n",
    "# Create validation geometry, validate m66, and plot flow"
   ]
  }
 ],
 "metadata": {
  "language_info": {
   "name": "python"
  },
  "orig_nbformat": 4
 },
 "nbformat": 4,
 "nbformat_minor": 2
}
