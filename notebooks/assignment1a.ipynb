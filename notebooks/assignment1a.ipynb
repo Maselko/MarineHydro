{
 "cells": [
  {
   "cell_type": "markdown",
   "metadata": {},
   "source": [
    "# Assignment 1(a): Roll added-inertia of a submerged body\n",
    "\n",
    "## Note: This assignment is incomplete and subject to change\n",
    "\n",
    "In this assignment you will extend the functions from the panel method notebook to predict the flow and forces induced by **roll motion**.\n",
    "\n",
    "1. _Sketch_ a body subject to roll motion $\\Omega_z=U_6$ around the point $(x_m,y_m)$. _Determine_ the equation for the normal velocity $\\vec U \\cdot \\hat n$ at a point $(x,y)$ on the body. Using this, _define_ the RHS of the equation $\\mathbf{A q_6=b_6}$, where $\\mathbf{A}$ is the normal-velocity influence matrix, and $\\mathbf{q_6}$ is the scaled source strength due to roll. _Determine_ the equation for the roll added-inertia $m_{66}$ in terms of these variables and the potential influence function $F^\\phi$.\n",
    "\n",
    "1. _Write_ a function `roll` which takes in the coordinate arrays `x,y` defining a shape and the roll center `x_m,y_m` and returns `q_6` and `m_{66}`. _Validate_ the `roll` function by comparing to a known $m_{66}$ for a fully submerged shape (cite your reference) and _discuss_ the convergence behaviour. _Plot_ the induced flow and _discuss_ it's physical characteristics. \n",
    "\n",
    "* Solution format: Write-up your solution for both parts, including screen-shots of important functions and the results plots, and submit as a `PDF`. Submit the working python code needed to reproduce those plots as a `py` or `ipynb`. \n",
    "* Note: Explain your method/results in the write-up, not in the code. Any time you are tempted to write \"see code for ____\", put the important information in the write-up instead."
   ]
  },
  {
   "cell_type": "code",
   "execution_count": null,
   "metadata": {},
   "outputs": [],
   "source": [
    "# Import functions\n",
    "import requests\n",
    "url = 'https://raw.githubusercontent.com/weymouth/MarineHydro/master/src/PanelMethod.py'\n",
    "exec(requests.get(url).content)"
   ]
  },
  {
   "cell_type": "code",
   "execution_count": null,
   "metadata": {},
   "outputs": [],
   "source": [
    "# Complete function\n",
    "# def roll(x,y,xm=0,ym=0):\n",
    "#     return q6,m66\n",
    "\n",
    "# Create validation geometry, validate m66, and plot flow"
   ]
  }
 ],
 "metadata": {
  "kernelspec": {
   "display_name": "Python 3 (ipykernel)",
   "language": "python",
   "name": "python3"
  },
  "language_info": {
   "codemirror_mode": {
    "name": "ipython",
    "version": 3
   },
   "file_extension": ".py",
   "mimetype": "text/x-python",
   "name": "python",
   "nbconvert_exporter": "python",
   "pygments_lexer": "ipython3",
   "version": "3.8.12"
  }
 },
 "nbformat": 4,
 "nbformat_minor": 4
}
