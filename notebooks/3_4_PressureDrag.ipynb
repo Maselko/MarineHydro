{
 "cells": [
  {
   "cell_type": "markdown",
   "metadata": {},
   "source": [
    "# Pressure drag\n",
    "\n",
    "In this final section we will develop a pressure drag model that can be applied to real engineering flows."
   ]
  },
  {
   "cell_type": "code",
   "execution_count": null,
   "metadata": {},
   "outputs": [],
   "source": [
    "import os\n",
    "import sys\n",
    "module_path = os.path.abspath(os.path.join('..'))\n",
    "if module_path not in sys.path:\n",
    "    sys.path.append(module_path)\n",
    "\n",
    "from matplotlib import pyplot as plt\n",
    "%matplotlib inline\n",
    "import numpy as np\n",
    "from vortexpanel import VortexPanel as vp\n",
    "from vortexpanel import BoundaryLayer as bl"
   ]
  },
  {
   "cell_type": "markdown",
   "metadata": {},
   "source": [
    "### Bernoulli equation\n",
    "\n",
    "The first step is to compute the pressure, $P$, which we can get using the Bernoulli equation\n",
    "\n",
    "$$ P+\\frac 12 \\rho\\ |u|^2-\\rho gz = B $$\n",
    "\n",
    "where $\\rho$ is the density, $\\rho gz$ is the head, and $B$ is the Bernoulli coefficient. As in the rest of this course, will assume no hydrostatic pressure.\n",
    "\n",
    "To avoid the ambiguity of the Bernoulli coefficient, we typically work with the pressure coefficient $c_p$\n",
    "\n",
    "$$c_p = \\frac{P-P_\\infty}{\\frac 12\\rho\\ U^2}$$\n",
    "instead of the pressure."
   ]
  },
  {
   "cell_type": "markdown",
   "metadata": {},
   "source": [
    "##### Quiz\n",
    "\n",
    "Which is a correct simplification of the pressure coefficient?\n",
    "\n",
    "1. $c_p = \\frac 12 |u|^2$\n",
    "1. $c_p = 1-|u|^2/U^2$\n",
    "1. $c_p = 1-P/P_\\infty$"
   ]
  },
  {
   "cell_type": "markdown",
   "metadata": {},
   "source": [
    "---\n",
    "So lets use this to plot $c_p(s)$ on the surface of a circle in a uniform flow:"
   ]
  },
  {
   "cell_type": "code",
   "execution_count": null,
   "metadata": {},
   "outputs": [],
   "source": [
    "circle = vp.make_circle(N=32)  # set-up geom\n",
    "s = circle.distance()\n",
    "\n",
    "circle.solve_gamma()           # find gamma O(1)\n",
    "plt.plot(s,1-circle.get_array('gamma')**2, label='O(1)')\n",
    "\n",
    "circle.solve_gamma_O2()        # find gamma O(2)\n",
    "plt.plot(s,1-circle.get_array('gamma')**2, label='O(2)')\n",
    "\n",
    "plt.plot(s,1-4*np.sin(s)**2, label='analytic')\n",
    "plt.xlabel(r'$\\theta$', fontsize=16)\n",
    "plt.ylabel(r'$c_p$', fontsize=18,rotation=0)\n",
    "plt.legend();"
   ]
  },
  {
   "cell_type": "markdown",
   "metadata": {},
   "source": [
    "Where we've use $|u/U|^2=\\tilde\\gamma^2=\\gamma^2$ on the body (yet again), and threw in another comparison between the solvers for good measure. \n",
    "\n",
    "\n",
    "Notice the stagnation pressure coefficient is one by definition, and that $c_p$ is symmetric on the front and back of the body."
   ]
  },
  {
   "cell_type": "markdown",
   "metadata": {},
   "source": [
    "---\n",
    "\n",
    "## Pressure force\n",
    "\n",
    "Once we have the surface pressure we can use it to determine the pressure force on the body, as\n",
    "\n",
    "$$ \\vec F_p = -\\oint p \\hat n da $$\n",
    "\n",
    "where $\\oint da$ is the integral over the body surface, and $\\hat n$ is the normal vector to the surface. \n",
    "\n",
    "For instance, the lift coefficient is then:\n",
    "\n",
    "$$ C_L = \\frac{\\vec F_p \\cdot \\hat U_\\perp} { \\tfrac 12 \\rho U^2 A }  = \\frac{-\\oint p \\hat n \\cdot \\hat U_\\perp ds }{ \\tfrac 12 \\rho U^2 c } c= -\\frac{\\oint c_p (s_x\\cos\\alpha+s_y\\sin\\alpha) ds}{ c } $$\n",
    "\n",
    "where $c$ is the coord, $\\hat U_\\perp=\\cos\\alpha\\hat y-\\sin\\alpha\\hat x$ is the direction perpendicular to the free stream and $\\hat n=s_x\\hat y-s_y\\hat x$ as seen in the figure below:\n",
    "\n",
    "![short](resources/graphics6.png)\n",
    "\n",
    "Let's test is on the Jukowski foil..."
   ]
  },
  {
   "cell_type": "code",
   "execution_count": null,
   "metadata": {},
   "outputs": [],
   "source": [
    "def C_L(panels,alpha):\n",
    "    gamma, xc, S, sx, sy = panels.get_array('gamma','xc','S','sx','sy')\n",
    "    c = max(xc)-min(xc)\n",
    "    perp = sx*np.cos(alpha)+sy*np.sin(alpha)\n",
    "    return -sum((1-gamma**2)*2*S*perp)/c\n",
    "\n",
    "foil = vp.make_jfoil(N=32)\n",
    "foil.solve_gamma_O2(alpha=0.1,kutta=[(0,-1)])\n",
    "print(\"C_L = {:.3f}\".format(C_L(foil,alpha=0.1)))"
   ]
  },
  {
   "cell_type": "markdown",
   "metadata": {},
   "source": [
    "This function will give the same result for the __total__ lift as the circulation-based formula from notebook 3_3. However, when simulating the flow on multiple bodies, only the formula above can be applied to find the lift on each body individually.\n",
    "\n",
    "\n",
    "---\n",
    "\n",
    "Similarly, the (pressure) drag coefficient $C_P$ is:\n",
    "\n",
    "$$ C_P = \\frac{\\vec F_p \\cdot \\hat U_\\parallel} { \\tfrac 12 \\rho U^2 A } = \\frac{\\oint c_p (s_y\\cos\\alpha-s_x\\sin\\alpha) ds}{ t } $$\n",
    "\n",
    "where $t$ is the thickness and $\\hat U_\\parallel$ is the direction parallel to $\\vec U$. Let's test $C_P$ on the circle flow with $\\alpha=0$."
   ]
  },
  {
   "cell_type": "code",
   "execution_count": null,
   "metadata": {},
   "outputs": [],
   "source": [
    "def C_P(panels):\n",
    "    gamma,yc,sy,S = panels.get_array('gamma', 'yc', 'sy', 'S')\n",
    "    t = max(yc)-min(yc)\n",
    "    return sum((1-gamma**2)*sy*2*S)/t\n",
    "\n",
    "print(\"C_P = {:.16f}\".format(C_P(circle)))"
   ]
  },
  {
   "cell_type": "markdown",
   "metadata": {},
   "source": [
    "##### Quiz\n",
    "\n",
    "Why is the pressure drag equal to zero?\n",
    "\n",
    "1. The symmetric shape of the circle\n",
    "1. Potential flow\n",
    "1. Insufficient resolution\n",
    "---"
   ]
  },
  {
   "cell_type": "markdown",
   "metadata": {},
   "source": [
    "\n",
    "\n",
    "## Wake model\n",
    "\n",
    "We can predict the forces in terms of the vortex sheets instead of the pressure, but we need a wake to produce drag.\n",
    "\n",
    "Lets assume the boundary layers separate from the body into a pair of **shear layers**, but maintain the same strength ($\\gamma$) as they were at the point of separation. We'll also assume that the distance between the shear layers ($w$) stays the same.\n",
    "\n",
    "![short](resources/shear_wake.png)\n",
    "\n",
    "The shear layers induce a change in momentum due to the continual growth of the vortex sheets in time:\n",
    "\n",
    "$$ D = \\rho \\frac{d}{dt}\\int_S y \\gamma ds $$\n",
    "\n",
    "Note: the real wake doesn't look like this. But these assumptions might be good enough to determine how the drag __scales__.\n",
    "\n",
    "---\n",
    "\n",
    "##### Quiz\n",
    "\n",
    "How does the drag induced by the shear layers in the sketch scale?\n",
    "\n",
    "1. $\\rho U^2 t$\n",
    "1. $\\rho \\gamma^2 w$\n",
    "1. $\\rho U^2 \\gamma $\n",
    "\n",
    "---\n",
    "\n",
    "Let's do a quick sanity check on this model to make sure we're happy with it:\n",
    "- The wider the wake, the greater the drag\n",
    "- The stronger the shear layers, the greater the drag\n",
    "- __Critically__ we can compute these values ($\\gamma$,$w$) using numerical boundary layer decomposition\n",
    "\n",
    "This is promising, but...\n",
    "\n",
    "##### Numerical fundamental: Validation \n",
    "##### Every piece of code must be tested against a known nontrivial example (last time, promise) \n",
    "\n",
    "---"
   ]
  },
  {
   "cell_type": "markdown",
   "metadata": {},
   "source": [
    "## Wake coefficient calibration\n",
    "\n",
    "To test (and potentialy calibrate) our simple wake deficit model against this data we first define a wake momentum coefficient \n",
    "$$C_\\gamma = \\frac {\\rho \\gamma^2 w}{\\rho U^2 t} = \\frac w t \\tilde\\gamma ^2$$\n",
    "Note that I've scaled the wake deficit estimate by $\\rho U^2 t$ so that we can compare it to $C_P$.\n",
    "\n",
    "Then `for` each $c/t$:\n",
    "1. `Solve` the flow, `split` the body, and use `thwaites` for the boundary layer. (We have already validated this step.)\n",
    "1. Measure the predicted $w$ and $\\gamma$ __at the separation point__ to determine $C_\\gamma$.\n",
    "1. Finally, plot $C_\\gamma$ against the experimental $C_D$ from Hoerner, giving:\n",
    "\n",
    "![small](resources/pressure_drag.png)\n",
    "\n",
    "Despite simplicity of our wake model, the wake coefficient is almost perfectly correlated with the pressure drag! The equation for the line above is:\n",
    "\n",
    "$$ C_P = 0.343 C_\\gamma$$"
   ]
  },
  {
   "cell_type": "markdown",
   "metadata": {},
   "source": [
    "---\n",
    "\n",
    "##### Quiz\n",
    "\n",
    "What do you think would be the fastest way to estimate forces in the early stages of the design process?\n",
    "\n",
    "1. Analytic potential flow theory\n",
    "1. Numerical boundary layer decomposition\n",
    "1. Navier-Stokes simulations (CFD)\n",
    "2. Experiments\n",
    "\n",
    "---"
   ]
  },
  {
   "cell_type": "markdown",
   "metadata": {},
   "source": [
    "##### Your turn\n",
    "\n",
    " - **Complete** the function `C_gamma` to determine the wake coefficient following the method described above.\n",
    " - **Plot and Compare ** your predictions to Hoerner's reported $C_D$ data."
   ]
  },
  {
   "cell_type": "code",
   "execution_count": null,
   "metadata": {},
   "outputs": [],
   "source": [
    "def C_gamma(panels):\n",
    "    return # your code here"
   ]
  },
  {
   "cell_type": "code",
   "execution_count": null,
   "metadata": {},
   "outputs": [],
   "source": [
    "# Hoerner's data\n",
    "c_t = [1.27,1.67,2.06,3.06,3.39,4.03,4.73,8.15]\n",
    "CD = [0.919,0.718,0.604,0.438,0.408,0.342,0.324,0.267]\n",
    "plt.scatter(c_t,CD,label='experimental C_D')\n",
    "\n",
    "# your code here\n",
    "\n",
    "plt.legend()\n",
    "plt.xlabel(r'$c/t$', fontsize=18)\n",
    "plt.ylabel(r'Drag', fontsize=18);"
   ]
  },
  {
   "cell_type": "code",
   "execution_count": null,
   "metadata": {},
   "outputs": [],
   "source": []
  }
 ],
 "metadata": {
  "kernelspec": {
   "display_name": "Python 3",
   "language": "python",
   "name": "python3"
  },
  "language_info": {
   "codemirror_mode": {
    "name": "ipython",
    "version": 3
   },
   "file_extension": ".py",
   "mimetype": "text/x-python",
   "name": "python",
   "nbconvert_exporter": "python",
   "pygments_lexer": "ipython3",
   "version": "3.6.0"
  }
 },
 "nbformat": 4,
 "nbformat_minor": 1
}
