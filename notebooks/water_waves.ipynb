{
 "cells": [
  {
   "cell_type": "markdown",
   "metadata": {
    "colab_type": "text",
    "id": "view-in-github"
   },
   "source": [
    "<a href=\"https://colab.research.google.com/github/weymouth/MarineHydro/blob/master/notebooks/water_waves.ipynb\" target=\"_parent\"><img src=\"https://colab.research.google.com/assets/colab-badge.svg\" alt=\"Open In Colab\"/></a>"
   ]
  },
  {
   "cell_type": "markdown",
   "metadata": {},
   "source": [
    "# Numerical potential flow water waves 🌊\n",
    "\n",
    "The goal of this notebook is to compute the potential flow and forces on a body in waves, but let's start with a recap. \n",
    "\n",
    "Recall from [the first notebook](https://github.com/weymouth/MarineHydro/blob/master/notebooks/panel_method.ipynb) that the scaled potential $\\phi_k$ due to motion in degree of freedom $k$ is defined as a superposition of the contributions from each panel $i$\n",
    "\n",
    "$$\\phi_k = \\sum_i q_{k,i} F_i^\\phi \\quad\\text{where}\\quad F_i^\\phi=\\int_{s_i}^{s_{i+1}} G(s) ds $$\n",
    "\n",
    "where $q_{k,i}$ is the panel *strength* and $G$ is the panel *Green's function*. Once the strength's are set to satisfy the body boundary condition, $\\phi_k$ determines the whole flow and the added mass matrix.\n",
    "\n",
    "The first notebook developed a numerical method to compute this potential around any submerged 2D geometry using a potential flow source as the Green's function, as well as code to plot the flow and compute the added mass. Those functions are collected in [this source file](https://github.com/weymouth/MarineHydro/blob/master/src/PanelMethod.py) which we can execute using the [requests package](https://anaconda.org/anaconda/requests)."
   ]
  },
  {
   "cell_type": "code",
   "execution_count": null,
   "metadata": {
    "colab": {
     "base_uri": "https://localhost:8080/",
     "height": 432
    },
    "id": "X34nL-TknsFE",
    "outputId": "0c79cacc-cdea-4904-b5d3-eb287787bae5"
   },
   "outputs": [],
   "source": [
    "import requests\n",
    "url = 'https://raw.githubusercontent.com/weymouth/MarineHydro/master/src/PanelMethod.py'\n",
    "exec(requests.get(url).content)"
   ]
  },
  {
   "cell_type": "markdown",
   "metadata": {
    "id": "IS9ERngAhcb3"
   },
   "source": [
    "## Free surface Greens Function💧+👋=🌊\n",
    "\n",
    "In this notebook we will consider the oscillation of a body near the free surface, with displacement \n",
    "\n",
    "$$\\xi_k = |\\xi_k|\\cos\\omega t$$\n",
    "\n",
    "where $|\\xi_k|,\\omega$ are the amplitude and frequency of motion.\n",
    "\n",
    "This motions near the free surface will generate waves, changing the flow and forces significantly compared to the case considered in the first notebook. Despite the huge change to the physical set-up and results, we only need to make a *single modification* to the numerical method:\n",
    "\n",
    "**We need to modify the source Green's function $G$ to include the potential flow waves which it generates. That's it!**  \n",
    "\n",
    "Here is new the Green's function, taken from [this modern paper](https://www.researchgate.net/profile/Ed-Mackay/publication/344610701_Calculation_of_the_two-dimensional_free_surface_Green_function/links/5f84519f299bf1b53e20e1f2/Calculation-of-the-two-dimensional-free-surface-Green-function.pdf):\n",
    "\n",
    "$$ G(x,y,x_s,y_s) = \\log(r_s)-2\\pi \\imath e^Z-f(Z) $$\n",
    "\n",
    "There are three terms:\n",
    "\n",
    "1. The first term is the **oscillating source** where $r_s^2 = (x-x_s)^2+(y-y_s)^2$ is the square-distance from the point $(x_s,y_s)$ on the segment to a point $(x,y)$ in space, as before. As in the first notebook, the Green's function only includes the spacial dependence, the source strength and the oscillation time dependance are multiplied later.\n",
    "\n",
    "2. The second term is the **traveling wave** written using complex variables. The standard wave potential is \n",
    "$$ \\phi = \\frac{|\\eta|g}{\\omega} e^{Ky}\\cos(Kx-\\omega t+\\Phi) $$\n",
    "where $|\\eta|,\\Phi$ are the wave amplitude and the phase relative to the motion, and $K=\\omega^2/g$ is the deep water wave number. In complex variables we have $e^{\\imath\\theta} = \\cos\\theta+\\imath\\sin\\theta$, where $\\imath=\\sqrt{-1}$. Therefore we can write\n",
    "$$ \\phi = \\Re\\left[\\underbrace{|\\zeta| e^{K(y+\\imath x)}}_\\text{space} \\underbrace{e^{-\\imath\\omega t}}_\\text{time}\\right] $$\n",
    "where $|\\zeta|$ is the *complex* amplitude which includes the phase. The traveling wave term in $G$ matches the spacial part of this potential using $Z=K(y+y_s+\\imath(x-x_s))$ (shifting the origin of the wave) and setting $|\\zeta|=-2\\pi\\imath$. \n",
    "\n",
    "3. Finally, the last term is a **standing wave** potential which is added to the source potential so that the total satisfies the free surface boundary condition \n",
    "$$ K\\phi-\\frac{\\partial\\phi}{\\partial y} = 0 \\quad\\text{on}\\quad y=0$$\n",
    "\n",
    "Let's look at the velocity field induced by a single source panel near the free surface."
   ]
  },
  {
   "cell_type": "code",
   "execution_count": null,
   "metadata": {
    "colab": {
     "base_uri": "https://localhost:8080/",
     "height": 374
    },
    "id": "tlhghDFbddjw",
    "outputId": "28a78b78-4590-4002-e8bb-213960356cb8"
   },
   "outputs": [],
   "source": [
    "from scipy.special import exp1\n",
    "\n",
    "def wave_source(x, y, xs, ys, K):\n",
    "    \"Source plus generated free surface waves\"\n",
    "    r2 = (x-xs)**2 + (y-ys)**2     # source square-distance\n",
    "    Z = K*(y+ys + 1j*abs(x-xs))  # wave number scaled complex vector\n",
    "    eZ = np.exp(Z)                 # traveling wave potential\n",
    "    fZ = 2*np.real(eZ*exp1(Z)) + np.log(np.abs(Z)/K)   # standing wave potential\n",
    "    return 0.5*np.log(r2) - 2j*np.pi*eZ - fZ\n",
    "\n",
    "XY = np.meshgrid(np.linspace(-3,3,66), np.linspace(-2,0,22))\n",
    "K = 4\n",
    "\n",
    "plot_flow([-.1,.1], [-.77,-0.65], [1], XY,wave_source, (K,), size=(16,6), ymax=0.6)"
   ]
  },
  {
   "cell_type": "markdown",
   "metadata": {
    "id": "DYPCTTaK9apT"
   },
   "source": [
    "We can clearly see the source and the waves above, but why are there *two* sets of vector fields and what do they mean? \n",
    "\n",
    "The Green's function is now complex, which makes the potential $\\phi_k$ and the velocity complex as well. These complex numbers are storing the **phase** information, just like the complex wave amplitude discussed above. \n",
    " - The black arrows are the real part. As $\\Re[e^{\\imath\\omega t}]=\\cos\\omega t$ these are *in-phase* with the panel displacement $\\xi_k$ and the acceleration $\\ddot\\xi_k$ which are both $\\cos$ terms. \n",
    " - The green arrows are the imaginary part. As $\\Im[e^{\\imath\\omega t}]=\\sin\\omega t$ these are *out-of-phase* with the panel displacement, instead being in-phase with the velocity $\\dot\\xi_k$.\n",
    "\n",
    "This is easier to understand using a movie!\n",
    "\n",
    "> **Note:** It takes a while for Python to generate the videos, so I've commented those lines out. Uncomment and play around with the flows in the following cells as much as you like."
   ]
  },
  {
   "cell_type": "code",
   "execution_count": null,
   "metadata": {
    "colab": {
     "base_uri": "https://localhost:8080/",
     "height": 453
    },
    "id": "cAEn5gFfogct",
    "outputId": "dfa28734-1d88-4d0e-e669-3d891d2762be"
   },
   "outputs": [],
   "source": [
    "from matplotlib.animation import FuncAnimation, PillowWriter\n",
    "from IPython.display import HTML\n",
    "\n",
    "def wave_video(x, y, q, XY, G=wave_source, args=(4,), size=(16,6)):\n",
    "    # Get complex velocity\n",
    "    def uv(i): return q[i]*velocity(*XY, x[i], y[i], x[i+1], y[i+1], G, args)\n",
    "    UV = sum(uv(i) for i in range(len(x)-1))\n",
    "\n",
    "    # Plot flow and segments\n",
    "    fig, ax = plt.subplots(1, 1, figsize=size)\n",
    "    Q = ax.quiver(*XY, *UV)#, pivot='mid')\n",
    "    ax.plot(x, y, c='b')\n",
    "    ax.set_ylim(None, 0.5)\n",
    "    ax.set_aspect('equal', adjustable='box')\n",
    "    plt.close()\n",
    "\n",
    "    # run through a wave period and take the real part\n",
    "    def update_quiver(num, Q):\n",
    "        Q.set_UVC(*np.real(UV*np.exp(-2j*np.pi*num/101)))\n",
    "        return Q,\n",
    "\n",
    "    # create the animation\n",
    "    return FuncAnimation(fig, update_quiver, fargs=(Q,), interval=50)\n",
    "\n",
    "# anim = wave_video([-.1,.1],[-.77,-0.65],[1],XY)\n",
    "# HTML(anim.to_html5_video())"
   ]
  },
  {
   "cell_type": "markdown",
   "metadata": {
    "id": "pwZd31VLK_8F"
   },
   "source": [
    "[![Link to video](http://i3.ytimg.com/vi/3DSdek0stHM/hqdefault.jpg)](https://youtu.be/3DSdek0stHM)\n",
    "\n",
    "Looks good. The source, standing wave above it, and the radiating waves on either side are all visible. \n",
    "\n",
    "> **Note:** Now that you've seen the video, go back and look at the plot above. The black and green arrows are snapshots of the video at the start and a quarter of the way through a cycle. While the movie is certainly easier to digest, it's important to realize the scaled potential $\\phi_k$ has all the information needed to make the movie.\n",
    "\n",
    "---\n",
    "\n",
    "## Solving for free surface potential flows and forces 🛥\n",
    "\n",
    "> **Note:** The plots above use the original `velocity` function, they just apply the new `wave_source` singularity instead of the `source` singularity. Similarly, the `potential`, `construct_A` and `added_mass` functions can all by applied to free surface flows without modification!\n",
    "\n",
    "This is why writing re-usable functions is so powerful. Let's use our new Green's function to produce the flow around a semi-circular ship section in sway."
   ]
  },
  {
   "cell_type": "code",
   "execution_count": null,
   "metadata": {
    "colab": {
     "base_uri": "https://localhost:8080/",
     "height": 360
    },
    "id": "_r0nlNDg9wd7",
    "outputId": "168e49cc-aff4-41dd-a3cd-cae62051fbf2"
   },
   "outputs": [],
   "source": [
    "x, y = ellipse(64, theta1=0)\n",
    "circleXY = mask_grid(*XY, mask=lambda x,y: x**2 + y**2 < 1)\n",
    "K = 2\n",
    "A, nx, ny = construct_A(x, y, wave_source, (K,))\n",
    "plot_flow(x, y, np.linalg.solve(A,nx), circleXY, wave_source, (K,), size=(14,6), ymax=0.5)\n",
    "# anim = wave_video(x,y,np.linalg.solve(A,nx),circleXY,wave_source,(K,))\n",
    "# HTML(anim.to_html5_video())"
   ]
  },
  {
   "cell_type": "markdown",
   "metadata": {
    "id": "bRmpFo0UL9E3"
   },
   "source": [
    "That's amazing! You can clearly see the waves radiating away from the ship hull in either direction. When the ship moves to port, it forms a new crest on the port side, and vice-versa!\n",
    "\n",
    "Now let's check the added mass:"
   ]
  },
  {
   "cell_type": "code",
   "execution_count": null,
   "metadata": {
    "colab": {
     "base_uri": "https://localhost:8080/"
    },
    "id": "-naxCQ_OoAS-",
    "outputId": "aee17506-792e-4dab-83dc-3d08794d770a"
   },
   "outputs": [],
   "source": [
    "ma = added_mass(x, y, wave_source, (K,))\n",
    "print(np.array_str(ma, precision=3, suppress_small=True))"
   ]
  },
  {
   "cell_type": "markdown",
   "metadata": {
    "id": "77xtrqgjdkqh"
   },
   "source": [
    "Look carefully at this result because two important things have changed since we moved into free surface flows\n",
    "1. **The matrix is complex!** The real part $A_{kl}=\\Re(m_{kl})$ is the added mass in-phase with acceleration and the imaginary part $B_{kl}=\\omega\\Im(m_{kl})$ is the wave damping in-phase with velocity, such that the total force is now $$ f_l = \\sum_k \\ddot\\xi_k A_{kl}+\\dot\\xi_k B_{kl}$$ The damping is due to energy leaving the system in the radiating waves, which is why the damping is always zero when there is no free surface. \n",
    "1. **The values depend on the wave number!** A fully submerged circle of radius $R$ has $m_{kk}=\\rho \\pi R^2$ independent of the oscillation frequency, and this independance is true for any fully submerged shape. But the free surface Green's function depends on $K$, and so the resulting potential and matrix does as well!\n",
    "\n",
    "You can test this by changing the value of $K$ above and you will see a huge variation. Below, I have plotted the *dimensionless* added-mass and damping coefficients for a range of dimensionless frequencies $\\omega \\sqrt{R/g}=\\sqrt{KR}$.\n",
    "\n",
    "> **Note:** We've switched to a section in the $y,z$ plane since this is standard for strip theory."
   ]
  },
  {
   "cell_type": "code",
   "execution_count": null,
   "metadata": {
    "colab": {
     "base_uri": "https://localhost:8080/",
     "height": 304
    },
    "id": "rnyuI1wkc8Pr",
    "outputId": "4f67cbe3-60dd-443e-d7e1-7937bebab10d"
   },
   "outputs": [],
   "source": [
    "def force_plots(y, z, omega, rhoV=0.5*np.pi):\n",
    "    @np.vectorize\n",
    "    def force_coeffs(omega):\n",
    "        ma = added_mass(y, z, wave_source, (omega**2,))\n",
    "        return (np.real(ma[0,0])/rhoV, omega*np.imag(ma[0,0])/rhoV,   #22\n",
    "                np.real(ma[1,1])/rhoV, omega*np.imag(ma[1,1])/rhoV)   #33\n",
    "\n",
    "    A22,B22,A33,B33 = force_coeffs(omega)\n",
    "\n",
    "    f, (hplt,splt) = plt.subplots(1, 2, sharex=True, sharey=True, figsize=(9,4))\n",
    "    plt.ylim(0, 2)\n",
    "    hplt.set_title('Heave')\n",
    "    hplt.plot(omega, A33, 'C0', label=r'$A_{33}/\\rho V$')\n",
    "    hplt.plot(omega, B33, 'C1', label=r'$B_{33}\\sqrt{R}/\\rho V\\sqrt{g}$')\n",
    "    splt.set_title('Sway')\n",
    "    splt.plot(omega, A22, 'C0', label=r'$A_{22}/\\rho V$')\n",
    "    splt.plot(omega, B22, 'C1', label=r'$B_{22}\\sqrt{R}/\\rho V\\sqrt{g}$')\n",
    "    for ax in (hplt,splt):\n",
    "        ax.set_xlabel(r'$\\omega\\sqrt{R/g}$');ax.legend()\n",
    "\n",
    "force_plots(*ellipse(64,theta1=0), np.linspace(0.1,2))"
   ]
  },
  {
   "cell_type": "markdown",
   "metadata": {
    "id": "9z_gNIKckv4d"
   },
   "source": [
    "The added-mass predictions vary from 20-120% of the displacement! **But is this correct?**\n",
    "\n",
    "> **Note:** You weren't going to trust this numerical method before it was validated... were you?\n",
    "\n",
    "Here are some experimental and analytic results for the added mass and damping on a semi-circle from [Vugts 1968](https://content.iospress.com/download/international-shipbuilding-progress/isp15-167-02?id=international-shipbuilding-progress%2Fisp15-167-02). \n",
    "\n",
    "| Heave| Sway|\n",
    "|-|-|\n",
    "|![heave](https://drive.google.com/uc?export=view&id=1JYMgqOeW_UEGjXzq1VrbZ5_HQXsh3ayI) | ![sway](https://drive.google.com/uc?export=view&id=19P67Q0zPyW_yquO_37lOhHZEFMJlnNiV)|\n",
    "\n",
    "\n",
    "Our results match the analytic results in the paper really well (other than at two special points that we will discuss in a moment). This validates our free surface force predictions!\n",
    "\n",
    "The potential flow methods both match the experiments nicely other than the zero frequency heave added mass. Zero frequency heave is not linear - and so linear potential flow can't predict it.\n",
    "\n",
    "---\n",
    "\n",
    "## Wave resonance (😄)^💧=😅 \n",
    "\n",
    "The two blips in our added mass prediction results are due to resonance *inside* the geometry!\n",
    "\n",
    "> **Note:** These are the frequencies which could potentially cause issues with sloshing cargo.\n",
    "\n",
    "The flow *inside* the hull is plotted below - showing an internal standing wave. This wave totally dominates the flow and causes a singularity in the added mass calculation. However, we're typically only interested in the forces caused by the flow external to the hull, meaning we can ignore these artifacts."
   ]
  },
  {
   "cell_type": "code",
   "execution_count": null,
   "metadata": {},
   "outputs": [],
   "source": [
    "K = 3.25 # sway sloshing wavenumber from plot above\n",
    "y, z = ellipse(64, theta1=0)\n",
    "A, ny, nz = construct_A(y, z, wave_source, (K,))\n",
    "YZ = np.meshgrid(np.linspace(-1,1,22), np.linspace(-1,0,11))\n",
    "inside = mask_grid(*YZ, mask=lambda y,z: y**2+z**2>1)\n",
    "plot_flow(y, z, np.linalg.solve(A, ny), inside, wave_source, (K,), size=(8,6), ymax=0.5)\n",
    "\n",
    "# anim = wave_video(y,z,np.linalg.solve(A,ny),inside,wave_source,(K,),size=(8,6))\n",
    "# HTML(anim.to_html5_video())"
   ]
  },
  {
   "cell_type": "markdown",
   "metadata": {
    "id": "9z_gNIKckv4d"
   },
   "source": [
    "---\n",
    "\n",
    "## Multiple geometries ⛵⛵\n",
    "\n",
    "The functions above only compute the flow and forces around a single shape - they take in **one** pair of coordinate arrays `x,y`. How can we compute the flow induced by more than one shape, like a two boats in proximity or a multi-hull? Here are some ideas:\n",
    "\n",
    "1. **Superposition:** Can we define the geometries, solve for each flow separately, and then add the flow and forces together? \n",
    "\n",
    "*No.* If we solve for the flows separately, we will miss the influence of the bodies on each other. When we add them up, the body BC won't be satisfied and so the flow and forces will be wrong.\n",
    "\n",
    "2. **Images:** Can we apply the method of images to reflect the geometry across the $y$ axis?\n",
    "\n",
    "*Yes... in some cases.* This is the classic approach (since it play nice with analytic models) but there are some caveats. Importantly, this only works when you have a plane of symmetry! So you can't use this to model two independent hulls - even if the geometries are identical, their motions won't be. It would also require using a new Green's function.\n",
    "\n",
    "3. **Concatenation:** Can we stack all the body arrays together, and then solve for the flow?\n",
    "\n",
    "*Yes... if we are careful.* This approach includes the influence of each body on the other, but it will also create fake panels linking the bodies together. We need to zero the influence of those \"non-panels\". This is the approach I've used below."
   ]
  },
  {
   "cell_type": "code",
   "execution_count": null,
   "metadata": {
    "colab": {
     "base_uri": "https://localhost:8080/",
     "height": 206
    },
    "id": "KLDJ_WR6PFYe",
    "outputId": "b8310a81-8b4a-4fac-cc3f-3385a8a3be01"
   },
   "outputs": [],
   "source": [
    "def circle_cat(N,gap):\n",
    "    ya, za = ellipse(N//2, theta1=0)\n",
    "    yb, zb = ellipse(N//2, theta1=0)\n",
    "    return np.append(ya+gap, yb-gap), np.append(za, zb), [N//2]\n",
    "\n",
    "def concat_sway(y,z,blank,G,args):\n",
    "    yc, zc, ny, _, h = properties(y[:-1], z[:-1], y[1:], z[1:])\n",
    "    A, ny, _ = construct_A(y, z, G, args)\n",
    "    # *zero* the connecting panels before solving\n",
    "    for i in blank:\n",
    "        A[i,:] = np.zeros(len(ny)); A[i,i] = 1; ny[i] = 0\n",
    "    qy = np.linalg.solve(A, ny) # sway source\n",
    "\n",
    "    B = [h*potential(yc, zc, y[i], z[i], y[i+1], z[i+1], G, args) for i in range(len(yc))]\n",
    "    myy = -ny@B@qy # sway added-mass\n",
    "    return qy, myy\n",
    "\n",
    "N, K, gap = 32, 2, 3\n",
    "y, z, blank = circle_cat(N, gap)\n",
    "catYZ = np.meshgrid(np.linspace(-6,6,108), np.linspace(-2,0,18))\n",
    "catYZ = mask_grid(*catYZ, mask=lambda y,z: (abs(y)-gap)**2 + z**2<1)\n",
    "qy, myy = concat_sway(y, z, blank,wave_source, (K,))\n",
    "print(f'Sway added mass = {myy:.3g}')\n",
    "plot_flow(y, z, qy, catYZ, wave_source, (K,), size=(14,6), ymax=0.5)"
   ]
  },
  {
   "cell_type": "markdown",
   "metadata": {
    "id": "gURRinn2Ks3l"
   },
   "source": [
    "Look at the wave in the center of the plot, between the two circles. Since the arrows are all black instead of green, this is a standing wave caught between the hulls. As with the *internal* wave mentioned above, this *external* standing wave will also produce large forces and we therefore need to be careful to consider it's impact on multi-hull performance. \n",
    "\n",
    "---\n",
    "\n",
    "## Parametric study 🧑‍💻 📈\n",
    "\n",
    "We will run a geometric parameter sweep on the distance between the centers $Y$=2`gap` to investigate the impact of the geometry and on the forces."
   ]
  },
  {
   "cell_type": "code",
   "execution_count": null,
   "metadata": {},
   "outputs": [],
   "source": [
    "@np.vectorize\n",
    "def sway(omega, gap, rhoV=np.pi):\n",
    "    y, z, blank = circle_cat(32, gap)\n",
    "    _ , ma = concat_sway(y, z, blank, wave_source, (omega**2,))\n",
    "    return np.real(ma/rhoV)\n",
    "\n",
    "def myplot(x,y,label,**kwargs): # remove segment connecting +/- singularities\n",
    "    i = np.argmax(np.diff(y) < -4) + 1\n",
    "    plt.plot(x[:i], y[:i], label=label, **kwargs)\n",
    "    plt.plot(x[i:], y[i:], **kwargs)\n",
    "\n",
    "omega = np.linspace(0.1, 1.3, 21)\n",
    "plt.figure(figsize=(4, 5))\n",
    "for Y in range(3, 7):\n",
    "  myplot(omega, sway(omega, Y/2), label=Y, color=plt.cm.Greens((Y-2)/4))\n",
    "plt.legend(title=r'$Y/R$')\n",
    "plt.axhline(y=0, c='k')\n",
    "plt.xlabel(r'$\\omega\\sqrt{R/g}$')\n",
    "plt.ylabel(r'$\\frac{A_{22}}{\\rho V}$', rotation=0, size=14)\n",
    "plt.ylim(-1.5, 3.5)\n",
    "plt.xlim(0, 1.8);"
   ]
  },
  {
   "cell_type": "markdown",
   "metadata": {},
   "source": [
    "This plot (formatted to match the figure in Faltisen) shows that the resonant standing wave between the hulls causes a singularity in the linear added-mass. As before, the singularity indicates a breakdown of linear theory but there will still be very large (positive *or negative*) added mass near this frequency.\n",
    "\n",
    "> **Note**: The resonant frequency decreases as the gap is increased, corresponding to the longer wavelength of the standing wave. Building a cat with a spacing similar to the dominant water wavelength in a region would lead to serious sea keeping and stability issues.\n",
    "\n",
    "---\n",
    "\n",
    "\n",
    "## Summary 🏁 🏁\n",
    "\n",
    "That's it for the second notebook. Let's review the main takeaway points:\n",
    " 1. To solve for potential flows with a free surface, we **only** need to modify the Green's function to include the surface wave potential induced by the source. No other changes are needed to any of the functions from the previous notebook!\n",
    " 2. The wave potential, and therefore the flow solutions and forces, inherently **depends on the oscillation frequency** because of the free surface boundary conditions. \n",
    " 3. In addition to the added-mass force in phase with body acceleration, there is also a **wave damping force** in phase with the body velocity which carries energy away from the body.\n",
    " 4. The forces may vary drastically with frequency, particularly near resonance. Internal or external **standing waves** cause singularities in the force.\n",
    " 5. A **parametric study** sweeps over one or more nondimensional parameters of interest such as a geometric ratio, and can provide important insights into a marine design. "
   ]
  }
 ],
 "metadata": {
  "colab": {
   "authorship_tag": "ABX9TyOZpwpv2D0uVxc6yRE2lcTv",
   "collapsed_sections": [],
   "include_colab_link": true,
   "name": "Water Waves",
   "provenance": []
  },
  "interpreter": {
   "hash": "b3ba2566441a7c06988d0923437866b63cedc61552a5af99d1f4fb67d367b25f"
  },
  "kernelspec": {
   "display_name": "Python 3 (ipykernel)",
   "language": "python",
   "name": "python3"
  },
  "language_info": {
   "codemirror_mode": {
    "name": "ipython",
    "version": 3
   },
   "file_extension": ".py",
   "mimetype": "text/x-python",
   "name": "python",
   "nbconvert_exporter": "python",
   "pygments_lexer": "ipython3",
   "version": "3.8.12"
  }
 },
 "nbformat": 4,
 "nbformat_minor": 4
}
