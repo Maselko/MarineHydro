{
 "cells": [
  {
   "cell_type": "markdown",
   "metadata": {
    "colab_type": "text",
    "id": "view-in-github"
   },
   "source": [
    "<a href=\"https://colab.research.google.com/github/weymouth/MarineHydro/blob/master/notebooks/panel_method.ipynb\" target=\"_parent\"><img src=\"https://colab.research.google.com/assets/colab-badge.svg\" alt=\"Open In Colab\"/></a>"
   ]
  },
  {
   "cell_type": "markdown",
   "metadata": {
    "id": "ddHAguxmqLgj"
   },
   "source": [
    "# 2D Potential flow panel method 🚢\n",
    "\n",
    "A panel method is a numerical approach to constructing potential flows around engineering shapes such as a wing or ship hull. Panel methods used in industry are typically 3D, but we will use a 2D approach which is sufficient for strip theory calculations.\n",
    "\n",
    "## Potential and velocity of a source panel 🚰\n",
    "\n",
    "The 2D vesion of a panel is a line _segment_. In general this segment will run from some point $(x_i,y_i)$ to $(x_{i+1},y_{i+1})$ and will have a potential flow singularity distributed over it. \n",
    "\n",
    "For example, a 2D source potential is proportional to\n",
    "\n",
    "$$ G(x,y,x_s,y_s) = \\log(r_s) = \\frac 12 \\log(r_s^2) $$\n",
    "\n",
    "where $r_s^2 = (x-x_s)^2+(y-y_s)^2$ is the square-distance from a point $(x_s,y_s)$ on the line segment to a point $(x,y)$ in space. $G$ is called a [Green's function](https://en.wikipedia.org/wiki/Green%27s_function) and you can think of it as the building block for the panel method. \n",
    "\n",
    "The potential of the panel is the integrated superposition of $G$ along the segment, ie\n",
    "\n",
    "$$ \\phi_i(x,y) = q_i \\int_{s_i}^{s_{i+1}} G(x,y,x_s,y_s) ds = q_i F_i^\\phi(x,y)$$\n",
    "\n",
    "where $q_i$ is the panel strength. The function $F_i^\\phi$ is the potential's **influence function**, the potential induced by segment $i$ per unit strength.\n",
    "\n",
    "The potential flow velocity is the gradient of this potential (as usual) and since the $q_i$ is a constant, we can pull it outside the derivative\n",
    "\n",
    "$$ \\vec u_i = \\vec\\nabla\\phi_i = q_i\\vec\\nabla F^\\phi_i=q_iF^{\\vec u}_i\\ ,\\quad F^{\\vec u}_i = \\left[\\frac{\\partial F^\\phi_i}{\\partial x},\\frac{\\partial F^\\phi_i}{\\partial y}\\right]$$\n",
    "\n",
    "which defines the influence function for the velocity $\\vec u$. __Let's implement these equations numerically.__"
   ]
  },
  {
   "cell_type": "code",
   "execution_count": null,
   "metadata": {},
   "outputs": [],
   "source": [
    "import numpy as np\n",
    "\n",
    "def source(x, y, xs, ys): return 0.5*np.log((x-xs)**2 + (y-ys)**2)\n",
    "\n",
    "GAUSS2 = 0.5 * (1 + np.sqrt(1/3)) # gaussian-quadrature sample point\n",
    "\n",
    "def potential(x, y, x0, y0, x1, y1, G=source, args=()):\n",
    "    \"Gaussian quadrature estimate of the potential influence function\"\n",
    "    def dG(s): return G(x, y, x0*(1-s)+x1*s, y0*(1-s)+y1*s, *args)\n",
    "    h = np.sqrt((x1-x0)**2 + (y1-y0)**2)\n",
    "    return 0.5*h*(dG(GAUSS2)+dG(1-GAUSS2)) # int_0^h G ds\n",
    "\n",
    "def velocity(x, y, x0, y0, x1, y1, G=source, args=(), eps=1e-6):\n",
    "    \"Finite difference estimate of the velocity influence function\"\n",
    "    def phi(x, y): return potential(x, y, x0, y0, x1, y1, G, args)\n",
    "    return np.array(((phi(x+eps,y)-phi(x-eps,y)) / (2*eps),  # dphi/dx\n",
    "                     (phi(x,y+eps)-phi(x,y-eps)) / (2*eps))) # dphi/dy"
   ]
  },
  {
   "cell_type": "markdown",
   "metadata": {},
   "source": [
    "There are three functions:\n",
    "1. `source` defines the source Green's function $G$,\n",
    "2. `potential` defines the influence function $F^\\phi$, estimating the integral using a [Gaussian-quadrature](https://en.wikipedia.org/wiki/Gaussian_quadrature#/media/File:Comparison_Gaussquad_trapezoidal.svg), and\n",
    "3. `velocity` defines the influence function $F^{\\vec u}$, estimating the derivatives using [finite differences](https://en.wikipedia.org/wiki/Finite_difference#/media/File:Finite_difference_method.svg).\n",
    "\n",
    "> **Note:** An approximate method for an integral, such as the trapezoid rule $\\int_0^h G ds \\approx \\frac 12 h [G(0)+G(h)]$, is called a _quadrature_. A Gaussian-quadrature improves the accuracy of the trapezoid rule by sampling the function at special points instead of the interval boundaries.\n",
    "\n",
    "Let's test these functions by plotting the flow induced by a single panel on a background grid of points."
   ]
  },
  {
   "cell_type": "code",
   "execution_count": null,
   "metadata": {
    "colab": {
     "base_uri": "https://localhost:8080/",
     "height": 432
    },
    "id": "X34nL-TknsFE",
    "outputId": "0c79cacc-cdea-4904-b5d3-eb287787bae5"
   },
   "outputs": [],
   "source": [
    "from matplotlib import pyplot as plt\n",
    "\n",
    "# Example panel line segment\n",
    "x0, y0 = -.1, -0.5\n",
    "x1, y1 = 0.4, 0.17\n",
    "\n",
    "# Apply influence functions to a grid of points\n",
    "XY = np.meshgrid(np.linspace(-2,2,22), np.linspace(-2,2,22))\n",
    "UV = velocity(*XY, x0, y0, x1, y1)\n",
    "Phi = potential(*XY, x0, y0, x1, y1) \n",
    "\n",
    "# Plot the velocity vectors and potential contour lines\n",
    "plt.figure(figsize=(7,7))\n",
    "plt.quiver(*XY, *UV)\n",
    "plt.contour(*XY, Phi, 20)\n",
    "plt.plot([x0,x1], [y0,y1], c='b')\n",
    "plt.axis('equal');"
   ]
  },
  {
   "cell_type": "markdown",
   "metadata": {
    "id": "ztNvDhcC3jCU"
   },
   "source": [
    "Looks good! The resulting flow is the same as a point-source flow when $r \\gg ds$, _which makes physical sense_. However, the velocity is finite and smooth near the panel. This \"well behaved\" velocity makes panels a better choice for numerical methods than point-singularities.\n",
    "\n",
    "> **Note:** The default is `G=source` in the `potential` and `velocity` functions, but we could use some other Green's function if we want. This makes the functions **reusable**, which is a good idea since different singularities are good for building different types of flows. [This interactive webapp](https://weymouth.github.io/fluid-dynamics/vortexpanel/index.html) uses *vortex* segments to predict the flow and forces over a thin wing, and the [next notebook](https://github.com/weymouth/MarineHydro/blob/master/notebooks/water_waves.ipynb) we will use a *wave* Green's function for free surface flows.\n",
    "\n",
    "---\n",
    "\n",
    "## Superposition 💧➕💧➕💧= 💦\n",
    "\n",
    "The next step is to link multiple panels together to form a geometry. The total potential and velocity is simply the superposition (sum) of the contribution from each panel\n",
    "\n",
    "$$\\phi=\\sum_i \\phi_i=\\sum_i q_i F_i^\\phi\\ ,\\quad \\vec u = \\sum_i \\vec u_i=\\sum_i q_i F_i^{\\vec u}.$$ \n",
    "\n",
    "Let's define a set of $N$ panels by connecting $N+1$ points $x_0\\ldots x_N$ and $y_0\\ldots y_N$. Then the Python code for the potential or velocity is a simply `sum` over `i in range(N)`. \n",
    "\n",
    "Here's a superposition version of the plotting code above, and a test on a few panels."
   ]
  },
  {
   "cell_type": "code",
   "execution_count": null,
   "metadata": {
    "colab": {
     "base_uri": "https://localhost:8080/",
     "height": 428
    },
    "id": "OWtLH060ygkM",
    "outputId": "aa33a600-1c5a-49ad-88e1-ae1fcc2f9d7e"
   },
   "outputs": [],
   "source": [
    "def plot_flow(x, y, q, XY, G=source, args=(), size=(7,7), ymax=None):\n",
    "    \"Plot the geometry and induced velocity field\"\n",
    "\n",
    "    # Loop through segments, superimposing the velocity\n",
    "    def uv(i): return q[i]*velocity(*XY, x[i], y[i], x[i+1], y[i+1], G, args)\n",
    "    UV = sum(uv(i) for i in range(len(x)-1))\n",
    "    UV /= np.linalg.norm(UV) # normalize\n",
    "\n",
    "    # Create plot\n",
    "    plt.figure(figsize=size)\n",
    "    ax=plt.axes(); ax.set_aspect('equal', adjustable='box')\n",
    "\n",
    "    # Plot vectors and segments\n",
    "    plt.quiver(*XY, *np.real(UV), scale = 1)\n",
    "    plt.quiver(*XY, *np.imag(UV), scale = 1, color='g')\n",
    "    plt.plot(x, y, c='b')\n",
    "    plt.ylim(None, ymax)\n",
    "\n",
    "plot_flow([-1,1,1,-1], [-1,-1,1,1], [1,-1,1], XY)"
   ]
  },
  {
   "cell_type": "markdown",
   "metadata": {
    "id": "j3dFUDpa9sA-"
   },
   "source": [
    "Excellent! We can now plot the flow induced by a set of panels. Move around the points and change the strength `q` to see how the flow changes.\n",
    "\n",
    "> **Note:** The velocity isn't _that_ smooth since we've only approximated the integral with two samples (you can see where they are). This will be less of a problem when we use smaller panels. \n",
    "\n",
    "Lets define a function to create `N` panels in the shape of an ellipse."
   ]
  },
  {
   "cell_type": "code",
   "execution_count": null,
   "metadata": {
    "colab": {
     "base_uri": "https://localhost:8080/",
     "height": 428
    },
    "id": "shvx5GxUreQD",
    "outputId": "98bcd4c8-41e1-4691-f0da-e2d1f6689987"
   },
   "outputs": [],
   "source": [
    "def ellipse(N, a=1, b=1, theta1=np.pi):\n",
    "    \"x,y arrays around an elliptical arc\"\n",
    "    theta = np.linspace(-np.pi, theta1, N+1) # N+1 points for N panels\n",
    "    return a*np.cos(theta), b*np.sin(theta)\n",
    "\n",
    "def mask_grid(x, y, mask):\n",
    "    \"delete mesh points where mask is true\"\n",
    "    return np.array((x[~mask(x,y)], y[~mask(x,y)]))\n",
    "\n",
    "# geometry\n",
    "N, rx, ry = 32, 1.5, 0.75\n",
    "x, y = ellipse(N, rx, ry)\n",
    "EXY = mask_grid(*XY,mask = lambda x,y: (x/rx)**2+(y/ry)**2 < 1)\n",
    "\n",
    "q = np.ones_like(x) # we don't know q yet!\n",
    "plot_flow(x, y, q, EXY)"
   ]
  },
  {
   "cell_type": "markdown",
   "metadata": {
    "id": "QAJWhCYaZNVJ"
   },
   "source": [
    "## Linear system 🚣 ✖ ⚡ = 🚤\n",
    "\n",
    "The figure above assumes $q_i=1$, but we can get different flows around the same geometry by adjusting this strength. But how can we set $q_i$ to, say, compute the flow over an ellipse moving to the left?\n",
    "\n",
    "Since the Green's functions is a solution to the Laplace equation $\\nabla^2 G = 0$, _any_ superposition of panels and strengths will produce a valid potential flow. We need to determine $q_i$ using an additional equation, the normal velocity body boundary condition\n",
    "$$\\sum_i \\vec u_i\\cdot \\hat n = \\vec U \\cdot \\hat n \\quad\\text{on the body}$$ \n",
    "where $\\hat n$ is the body normal and $\\vec U$ is the body velocity. \n",
    "\n",
    "Substituting the equation for $\\vec u_i$ and applying this on every panel $j$ we have\n",
    "\n",
    "$$\\sum_i q_i F^{\\vec u}_i(\\vec c_j)\\cdot \\hat n_j = \\vec U \\cdot \\hat n_j$$\n",
    "\n",
    "where $\\vec c_j$ and $\\hat n_j$ are the center and normal of panel $j$.  \n",
    "\n",
    "Defining $a_{ij}=F^{\\vec u}_i(\\vec c_j)\\cdot \\hat n_j$ as the normal velocity influence of panel $i$ on panel $j$ and the right-hand-side as $b_j=\\vec U \\cdot \\hat n_j$, we have \n",
    "\n",
    "$$\\sum_i a_{ij}q_i=b_j$$\n",
    "\n",
    "This is a linear system of equations which we can write in the familiar matrix form $\\mathbf{A q=b}$. Since both $i,j$ run over `range(N)` we have $N$ equations and $N$ unknowns and we can solve for $q_i$ using NumPy's linear algebra function [`numpy.linalg.solve`](https://numpy.org/doc/stable/reference/generated/numpy.linalg.solve.html).\n",
    "\n",
    "> **Note:** The velocity induced by a souce panel on itself isn't accounted for using the `velocity` function, so I've added this contribution to the diagonal of $\\mathbf{A}$ separately."
   ]
  },
  {
   "cell_type": "code",
   "execution_count": null,
   "metadata": {
    "colab": {
     "base_uri": "https://localhost:8080/",
     "height": 697
    },
    "id": "ZopSLvzK6mY1",
    "outputId": "b6d53a8c-5237-4a09-ce26-19d575057576"
   },
   "outputs": [],
   "source": [
    "def properties(x0, y0, x1, y1):\n",
    "    \"properties of a line segment\"\n",
    "    sx, sy = x1-x0, y1-y0          # segment vector\n",
    "    xc, yc = x0+0.5*sx, y0+0.5*sy  # segment center \n",
    "    h = np.sqrt(sx**2 + sy**2)     # segment length\n",
    "    nx, ny = sy/h, -sx/h           # segment unit normal\n",
    "    return xc, yc, nx, ny, h\n",
    "\n",
    "def construct_A(x, y, G=source, args=()):\n",
    "    \"construct the velocity influence matrix\"\n",
    "    # influence of panel i on the normal velocity at each panel center\n",
    "    xc, yc, nx, ny, _ = properties(x[:-1], y[:-1], x[1:], y[1:])\n",
    "    def u_n(i):\n",
    "        u, v = velocity(xc, yc, x[i], y[i], x[i+1], y[i+1], G, args)\n",
    "        return u*nx+v*ny\n",
    "\n",
    "    # construct matrix\n",
    "    A = np.array([u_n(i) for i in range(len(yc))]).T\n",
    "    A += np.pi * np.eye(len(yc)) # add panel self-influence\n",
    "    return A, nx, ny\n",
    "\n",
    "Ux, Uy = -1, 1 # set motion direction\n",
    "A, nx, ny = construct_A(x, y)\n",
    "q = np.linalg.solve(A, Ux*nx+Uy*ny)\n",
    "plot_flow(x, y, q, EXY)"
   ]
  },
  {
   "cell_type": "markdown",
   "metadata": {},
   "source": [
    "Awesome! We can now solve for the potential flow around any set of moving panels!! **But is this flow correct?!?**\n",
    "\n",
    "> **Note:** We should never trust a numerical solution until we have tested the solver. \n",
    "\n",
    "At the very least, we insist that the solution $q$  **converges** as we increase the number of panels. This is easy to check:"
   ]
  },
  {
   "cell_type": "code",
   "execution_count": null,
   "metadata": {},
   "outputs": [],
   "source": [
    "for N in 2**(np.arange(6)+2):\n",
    "    x, y = ellipse(N, rx, ry)\n",
    "    A, nx, ny = construct_A(x, y)\n",
    "    q = np.linalg.solve(A, Ux*nx+Uy*ny)\n",
    "    plt.plot(np.linspace(-np.pi, np.pi, N), q, label=N)\n",
    "plt.xlabel(r'$\\theta$', size=14)\n",
    "plt.ylabel('q', rotation=0, size=14)\n",
    "plt.legend(title='N');"
   ]
  },
  {
   "cell_type": "markdown",
   "metadata": {
    "id": "YMQ1YZE-P_L6"
   },
   "source": [
    "We can see the solution does converge with $N$ and the difference between using 64 and 128 panels is extremely small. \n",
    "\n",
    "---\n",
    "\n",
    "## Added mass 🐙\n",
    "\n",
    "One of the most important applications of potential flow is the estimation of added mass forces due to body acceleration. There are two steps to predicting the added mass: \n",
    "\n",
    "**1. Determine the potential for unsteady motion in direction $k$**\n",
    "\n",
    "We define the *unsteady* potential as\n",
    "$$\\phi(\\vec x,t) = \\sum_k U_k(t) \\ \\phi_k(\\vec x)$$\n",
    "where $U_k$, $\\phi_k$ are the unsteady velocity and the resulting *scaled potential* for motion in direction $k$ ($\\hat x = \\hat e_1$ and $\\hat y = \\hat e_2$) .\n",
    "\n",
    "> **Note:** This is a separation of variables trick since $U_k$ depends only on time and $\\phi_k$ depends only on space. This simplifies integrals or derivatives in time or space. For example, $$u_n = \\frac{\\partial\\phi}{\\partial n} = \\frac{\\partial}{\\partial n}\\left(\\sum_k U_k\\phi_k\\right) = \\sum_k U_k\\frac{\\partial \\phi_k}{\\partial n}.$$\n",
    "\n",
    "Substituting the potential into the *unsteady* condition $u_n = \\sum_k U_k n_k$ on the body, and dividing both sides by $U_k$ gives\n",
    "\n",
    "$$\\frac{\\partial \\phi_k}{\\partial n}=n_k$$\n",
    "\n",
    "which is essentially the *steady* normal-velocity body boundary condition treated above. So the scaled source strength of each panel is determined by\n",
    "$$ \\mathbf{A}\\mathbf{q}_k = \\mathbf{n}_k$$\n",
    "and the scaled potential is the superposition $\\phi_k(\\vec x) = \\sum_i q_{k,i} F_i^\\phi(\\vec x)$.\n",
    "\n",
    "**2. Integrate the pressure to determine the force**\n",
    "\n",
    "The added mass force is the body integral of the pressure due to the unsteady potential\n",
    "\n",
    "$$ \\vec f = \\rho \\oint \\frac{\\partial\\phi}{\\partial t} \\hat n ds$$\n",
    "\n",
    "Substituting $\\frac{\\partial\\phi}{\\partial t}=\\sum_k\\dot U_k \\phi_k$ gives the $l$-component of the added mass force as\n",
    "\n",
    "$$ f_l = -\\sum_{k} \\dot U_k m_{kl} \\quad\\text{where}\\quad m_{kl} = -\\rho\\oint \\phi_k n_l ds$$\n",
    "where $\\dot U_k$ is the body acceleration and $m_{kl}$ is the **added mass matrix**.\n",
    "\n",
    "Approximating the integral as a sum over panels each with length $h_j$ and substituting the superposition for $\\phi_k$ gives $m_{kl}$ as\n",
    "$$ m_{kl} = -\\rho\\sum_j\\sum_i h_j F_i^\\phi(\\vec c_j) q_{k,i} n_{l,j} $$\n",
    "\n",
    "> **Note:** As before, these summations over the panels can be written as matrix multiplications `m_kl=(hF @ q_k) @ n_l`\n",
    "\n",
    "That's it. *1.* Solve for each $q_k$ using $n_k$ as the right-hand-side, and *2.* plug it into the double summation. "
   ]
  },
  {
   "cell_type": "code",
   "execution_count": null,
   "metadata": {
    "colab": {
     "base_uri": "https://localhost:8080/"
    },
    "id": "agJZA_W71tBB",
    "outputId": "bc98a098-9bfc-4dff-ba7e-19d496dc634f"
   },
   "outputs": [],
   "source": [
    "def added_mass(x, y, G=source, args=()):\n",
    "    \"Compute the added mass matrix (per rho)\"\n",
    "    # strength due to x,y motion\n",
    "    A, n1, n2 = construct_A(x, y, G, args)\n",
    "    q1 = np.linalg.solve(A, n1)\n",
    "    q2 = np.linalg.solve(A, n2)\n",
    "\n",
    "    # potential due to x,y motion (times panel width)\n",
    "    xc, yc, _, _, h = properties(x[:-1], y[:-1], x[1:], y[1:])\n",
    "    hF = [h*potential(xc, yc, x[i], y[i], x[i+1], y[i+1], G, args) for i in range(len(yc))]\n",
    "    phi1, phi2 = hF@q1, hF@q2 # potential influence matrix times strength. '@' is matrix multiplicaton\n",
    "\n",
    "    # sum over panels\n",
    "    return -np.matrix([[phi1@n1,phi1@n2], [phi2@n1,phi2@n2]])\n",
    "\n",
    "N, r1, r2 = 64, 1.5, 0.75\n",
    "ma = added_mass(*ellipse(N, r1, r2))\n",
    "print(np.array_str(ma, precision=3, suppress_small=True))"
   ]
  },
  {
   "cell_type": "markdown",
   "metadata": {},
   "source": [
    "The function above takes in the set of panels and returns the added mass matrix (scaled by $\\rho$).\n",
    "\n",
    "The first thing to do is to make sure the results are physically sensible:\n",
    " 1. The off diagonal values are zero, meaning there is no force generated in $x$ when accelerating in $y$ and vice-versa. Can you see why this is always true for objects moving along their axis of symmetry?\n",
    " 2. $m_{22}>m_{11}$ when $r_1>r_2$. Is it clear why moving perpendicular to the long axis will accelerate more fluid and produce more added mass?\n",
    "\n",
    "The next thing to do is to **validate** our numerical method!\n",
    "\n",
    "> **Note:** A numerical method is validated if the solution converges to a known exact solution. \n",
    "\n",
    "Newman gives the analytic added mass of an ellipse with semi-axis lengths $r_1,r_2$ as $m_{11} = \\rho \\pi r_2^2,\\ m_{22}=\\rho\\pi r_1^2$. Let's see if the code converges to these targets:"
   ]
  },
  {
   "cell_type": "code",
   "execution_count": null,
   "metadata": {},
   "outputs": [],
   "source": [
    "def err(est, true): return 100*(est-true)/true\n",
    "\n",
    "print('    |   % error\\n N  |  m11 |  m22 ')\n",
    "r1, r2 = 1.5, 0.75\n",
    "for N in 2**(np.arange(6)+4):\n",
    "    m = added_mass(*ellipse(N, r1, r2))\n",
    "    print(f'{N:3} | {err(m[0,0], np.pi*r2**2):.2f} | {err(m[1,1], np.pi*r1**2):.2f}')"
   ]
  },
  {
   "cell_type": "markdown",
   "metadata": {
    "id": "IS9ERngAhcb3"
   },
   "source": [
    "The error is less than 1% for the added mass coefficients using only 32-64 panels and converges to zero with more panels. The code is validated!\n",
    "\n",
    "> **Note:** The error goes down by $\\times 2$ when the number of panels increases by $\\times 2$. Therefore the error is proportional to the panel size, $\\varepsilon\\sim h$, which is called _linear_ convergence. \n",
    "\n",
    "---\n",
    "\n",
    "## Summary 🏁 🏁\n",
    "\n",
    "That's it for this notebook. We covered a lot, so go back through and make sure you understand the key points:\n",
    " 1. Panel methods are a numerical approach to compute the potential flow around an engineering geometry by breaking it up into small panels (or line segments in 2D).\n",
    " 2. Each panel is an integrated Green's function (such as a source singularity) with a variable strength and the total flow is the superposition (sum) of each panel's contribution. \n",
    " 3. The strengths $q_i$ are determined by solving a system of linear equations for the normal velocity through every panel.\n",
    " 4. Once the strengths are known, they can be used to plot the flow and determine the added mass.\n",
    "\n",
    "Also remember that numerical methods should never be trusted until they have been properly validated. In this case:\n",
    " 1. We checked that the potential and velocity plots as well as the added mass values were all **physically reasonable**.\n",
    " 2. We ensured that the source strength **converges** with increasing number of panels and\n",
    " 3. We **validated** the code against the known analytic added mass values for an ellipse geometry."
   ]
  }
 ],
 "metadata": {
  "colab": {
   "authorship_tag": "ABX9TyOZpwpv2D0uVxc6yRE2lcTv",
   "collapsed_sections": [],
   "include_colab_link": true,
   "name": "Panel Method",
   "provenance": []
  },
  "interpreter": {
   "hash": "b3ba2566441a7c06988d0923437866b63cedc61552a5af99d1f4fb67d367b25f"
  },
  "kernelspec": {
   "display_name": "Python 3 (ipykernel)",
   "language": "python",
   "name": "python3"
  },
  "language_info": {
   "codemirror_mode": {
    "name": "ipython",
    "version": 3
   },
   "file_extension": ".py",
   "mimetype": "text/x-python",
   "name": "python",
   "nbconvert_exporter": "python",
   "pygments_lexer": "ipython3",
   "version": "3.8.12"
  }
 },
 "nbformat": 4,
 "nbformat_minor": 4
}
