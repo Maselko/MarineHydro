{
 "cells": [
  {
   "cell_type": "markdown",
   "metadata": {},
   "source": [
    "# Vortex panel solution method\n",
    "\n",
    "This section will use vortex panels to solve to the flow around general objects by setting up and solving a system of linear equations."
   ]
  },
  {
   "cell_type": "markdown",
   "metadata": {},
   "source": [
    "## General vortex sheets\n",
    "\n",
    "A curved vortex sheet with a variable strength can describe the flow around any immersed object. This is achieved by having the sheet act as an infinitely thin version of the boundary layer to enforce the no-slip boundary condition. \n",
    "\n",
    "---\n",
    "\n",
    "<img src=\"resources/impulse.png\" width=\"700\">\n",
    "\n",
    "---\n",
    "\n",
    "In other words we use the sheets to force the tangential velocity $u_s$ to zero at every point $s$ on the body surface $\\cal S$\n",
    "\n",
    "\\begin{equation}\n",
    "u_s = \\vec u \\cdot \\hat s = 0 \\quad s \\in \\cal S\n",
    "\\end{equation}\n",
    "\n",
    "Substituting the definition of velocity induced by the sheet, the tangential velocity condition is\n",
    "\n",
    "\\begin{equation}\n",
    "\\left[\\vec U+\\frac{\\partial}{\\partial \\vec x}\\oint_{\\cal S} \\frac{\\gamma(s')}{2\\pi}\\theta(s,s')\\ ds'\\right] \\cdot\\hat s = 0 \n",
    "\\end{equation}\n",
    "\n",
    "where $\\vec U$ is the background velocity that has been added by superposition. \n",
    "\n",
    "**If we can use this equation to determine the strength distribution $\\gamma(s)$ along the sheet then we will have solved for the potential flow around the body!**"
   ]
  },
  {
   "cell_type": "markdown",
   "metadata": {},
   "source": [
    "## Discrete vortex panels\n",
    "\n",
    "For general body surface shapes the velocity is a highly nonlinear function of $\\gamma(s)$, rendering analytic solution unlikely. We could attempt some complex analytic expansions, but why would we want to do that?\n",
    "\n",
    "##### Numerical fundamental: Discretization\n",
    "##### Replace continuous functions with linear approximations\n",
    "\n",
    "We already know that the velocity depends **linearly** on $\\gamma$ for a vortex panel. This makes it easy to solve for $\\gamma$ as a function of $u_s$.\n",
    "\n",
    "If we break up the continuous sheet into a series of vortex panels, we can add their influence together using superposition. We can then apply the no slip boundary condition, and use it to solve for $\\gamma$. \n",
    "\n",
    "<img src=\"resources/graphics2.png\" width=\"700\">\n",
    "\n",
    "\n",
    "This is the essence of the *vortex panel method*."
   ]
  },
  {
   "cell_type": "markdown",
   "metadata": {},
   "source": [
    "---\n",
    "\n",
    "## Array of panels\n",
    "\n",
    "To help make this more concrete, lets use a unit circle as an example. The `make_circle` function has already been implemented in the `VortexPanel` module. Since we're going to use many functions in that module lets import the whole thing (like we do for `numpy`), and since it has a long name, lets give it the nick-name `vp`:"
   ]
  },
  {
   "cell_type": "code",
   "execution_count": null,
   "metadata": {},
   "outputs": [],
   "source": [
    "# Annoying stuff to find files in other directories (only needed once)\n",
    "import os\n",
    "import sys\n",
    "module_path = os.path.abspath(os.path.join('..'))\n",
    "if module_path not in sys.path:\n",
    "    sys.path.append(module_path)\n",
    "\n",
    "# Actual import code\n",
    "import numpy as np\n",
    "from matplotlib import pyplot as plt\n",
    "%matplotlib inline\n",
    "from vortexpanel import VortexPanel as vp"
   ]
  },
  {
   "cell_type": "markdown",
   "metadata": {},
   "source": [
    "Since you need to build your own shapes for the project, lets `inspect` how `make_circle` works"
   ]
  },
  {
   "cell_type": "code",
   "execution_count": null,
   "metadata": {},
   "outputs": [],
   "source": [
    "from inspect import getsource\n",
    "print(getsource(vp.make_circle))"
   ]
  },
  {
   "cell_type": "markdown",
   "metadata": {},
   "source": [
    "Most of that is a comment block explaining the inputs and giving an example of using the function. Only the last three lines are code. An array of `theta` values are defined and then converted into `x,y` positions. The last line converts those points into an array of vortex panels using a function called `panelize`. \n",
    "\n",
    "Lets use the two lines in the example to make a circle of panels and plot it:"
   ]
  },
  {
   "cell_type": "code",
   "execution_count": null,
   "metadata": {},
   "outputs": [],
   "source": [
    "circle = vp.make_circle(N=32)  # make\n",
    "circle.plot(style='o-')        # plot\n",
    "plt.axis('equal');             # show its a circle"
   ]
  },
  {
   "cell_type": "markdown",
   "metadata": {},
   "source": [
    "Play around with the `style` argument to see the points and panels that make up the shape. \n",
    "\n",
    "Note that in addition to holding the array of `panels`, the `PanelArray` object also has some really useful functions like `PanelArray.plot()`.\n",
    "\n",
    "The `PanelArray` class (and `Panel` within it) is written in an [Object Oriented Programming](https://realpython.com/python3-object-oriented-programming/#what-is-object-oriented-programming-oop) style.\n",
    "\n",
    "##### Coding fundamental: Objects\n",
    "##### Object-Oriented Programming helps organize data and functions\n",
    "\n",
    "Lets see what the help says"
   ]
  },
  {
   "cell_type": "code",
   "execution_count": null,
   "metadata": {
    "scrolled": true
   },
   "outputs": [],
   "source": [
    "help(vp.PanelArray)"
   ]
  },
  {
   "cell_type": "markdown",
   "metadata": {},
   "source": [
    "From the help, we can see that `PanelArray` contains the array of panels as well as an angle off attack. `Panel` also contains functions (the `methods`) which can be applied to it`self` such as plotting the panel and determining the panel's induced velocity. This avoids needing to pass the data about the geometry to the function - it's already all built-in!"
   ]
  },
  {
   "cell_type": "markdown",
   "metadata": {},
   "source": [
    "---\n",
    "Now that we have an example, what is the velocity induced by these panels and the uniform flow? \n",
    "\n",
    "Using superposition, the total velocity at any point $x,y$ is simply\n",
    "\n",
    "\\begin{equation}\n",
    "\\vec u(x,y) = \\vec U+\\sum_{j=0}^{N-1} \\vec u_j(x,y)\n",
    "\\end{equation}\n",
    "\n",
    "where we use the index  $j$ to label each of the $N$ panels. This is easily implemented for an array of panels:"
   ]
  },
  {
   "cell_type": "code",
   "execution_count": null,
   "metadata": {},
   "outputs": [],
   "source": [
    "print(getsource(vp.PanelArray.velocity))"
   ]
  },
  {
   "cell_type": "markdown",
   "metadata": {},
   "source": [
    "where the `for-in` notation loops through every panel in the array.\n",
    "\n",
    "---\n",
    "The function `PanelArray.plot_flow(size=2)` uses this superposition code to visualize the flow:"
   ]
  },
  {
   "cell_type": "code",
   "execution_count": null,
   "metadata": {},
   "outputs": [],
   "source": [
    "circle.plot_flow()"
   ]
  },
  {
   "cell_type": "markdown",
   "metadata": {},
   "source": [
    "##### Quiz\n",
    "\n",
    "Why is the flow going through the body above?\n",
    "\n",
    "1. We haven't applied the flow tangency condition\n",
    "1. We haven't applied the no-slip condition\n",
    "1. We haven't determined the correct `gamma` for each panel"
   ]
  },
  {
   "cell_type": "markdown",
   "metadata": {},
   "source": [
    "## System of linear equations\n",
    "\n",
    "One key to the solution method is that the velocity $\\vec u_j$ induced by vortex panel $j$ depends __linearly__ on $\\gamma_j$. So lets write $\\vec u_j$ in a way that makes the linearity explicit:\n",
    "\n",
    "$$ \\vec u_j(x,y)=\\gamma_j\\ \\vec f_j(x,y)$$\n",
    "\n",
    "where $\\vec f_j$ is the part of the velocity function which depends only on the panel geometry.\n",
    "\n",
    "Substituting this linear relation for the velocity $\\vec u_j$ into the total velocity equation and applying the no-slip boundary condition we have:\n",
    "\n",
    "$$ u_s = \\left[\\vec U + \\sum_{j=0}^{N-1} \\gamma_j \\ \\vec f_j(x,y)\\right]\\cdot\\hat s=0 $$\n",
    "\n",
    "So the goal is to set $\\gamma$ on each panel such that this condition is enforced on the body."
   ]
  },
  {
   "cell_type": "markdown",
   "metadata": {},
   "source": [
    "##### Quiz\n",
    "\n",
    "How many unknowns are there?\n",
    "\n",
    "1. $1$\n",
    "1. $N$\n",
    "1. $N^2$"
   ]
  },
  {
   "cell_type": "markdown",
   "metadata": {},
   "source": [
    "But we only have one equation, the no-slip condition... right?\n",
    "\n",
    "##### Numerical fundamental: Consistency\n",
    "##### Develop enough equations to match the unknowns\n",
    "\n",
    "We need to have as many equations as we have unknowns to be consistent and to be able to determine a solution.\n",
    "\n",
    "Luckily the no-slip condition is a continuous equation - it applies to *every* point on the body. Therefore, we can evaluate the boundary equation **on each panel**. Then we will have a consistent linear system.\n",
    "\n",
    "---"
   ]
  },
  {
   "cell_type": "markdown",
   "metadata": {},
   "source": [
    "Let's start with one panel, say panel $i$, and set the total tangential velocity at the center of the panel to zero:\n",
    "\n",
    "$$ \\frac 12 \\gamma_i + \\vec U\\cdot\\hat s_i + \\sum_{j=0, j\\ne i}^{N-1} \\gamma_j \\ \\vec f_j(x_i,y_i)\\cdot\\hat s_i= 0 $$\n",
    "\n",
    "Note that we've used the simple relation for the velocity a panel induces on itself\n",
    "\n",
    "$$ \\vec u_i(x_i,y_i) \\cdot \\hat s_i = \\frac 12 \\gamma_i $$\n",
    "\n",
    "for the tangential velocity that the panel induces on itself.\n",
    "\n",
    "Next, let's write the summation as an inner product of two arrays in order to separate out the knowns from the unknowns:\n",
    "\n",
    "$$\n",
    "\\begin{bmatrix} \\vec f_0(x_i,y_i)\\cdot\\hat s_i & \\vec f_1(x_i,y_i)\\cdot\\hat s_i & \\cdots & \\frac 12 & \\cdots & \\vec f_{N-1}(x_i,y_i)\\cdot\\hat s_i\\end{bmatrix} \\times \\begin{bmatrix} \\gamma_0 \\\\ \\gamma_1 \\\\ \\vdots \\\\ \\gamma_i \\\\ \\vdots \\\\ \\gamma_{N-1} \\end{bmatrix} + \\vec U \\cdot \\hat s_i = 0\n",
    "$$\n",
    "\n",
    "Written like this, we can see two things:\n",
    "\n",
    " - The no-slip condition on panel $i$ depends on the strength at every panel, and\n",
    " - This is just the $i$th row of a matrix of equations\n",
    "\n",
    "\\begin{equation}\n",
    "\\begin{bmatrix} \n",
    "\\frac 12  & \\vec f_1(x_0,y_0)\\cdot\\hat s_0 & \\cdots & \\vec f_{N-1}(x_0,y_0)\\cdot\\hat s_0\\\\[0.5em]\n",
    "\\vec f_0(x_1,y_1)\\cdot\\hat s_1 & \\frac 12 & \\cdots & \\vec f_{N-1}(x_1,y_1)\\cdot\\hat s_1 \\\\[0.5em]\n",
    "\\vdots & \\vdots & \\ddots & \\vdots \\\\[0.5em] \n",
    "\\vec f_0(x_{N-1},y_{N-1})\\cdot\\hat s_{N-1} & \\vec f_1(x_{N-1},y_{N-1})\\cdot\\hat s_{N-1} & \\cdots & \\frac 12\n",
    "\\end{bmatrix} \n",
    "\\times \\begin{bmatrix} \\gamma_0 \\\\[0.9em] \\gamma_1 \\\\[0.9em] \\vdots \\\\[0.9em] \\gamma_{N-1} \\end{bmatrix} \n",
    "= -\\begin{bmatrix} \\vec U\\cdot\\hat s_0 \\\\[0.7em] \\vec U\\cdot\\hat s_1 \\\\[0.7em] \\vdots \\\\[0.7em] \\vec U\\cdot\\hat s_{N-1} \\end{bmatrix}\n",
    "\\end{equation}\n",
    "\n",
    "which we can summarize as: \n",
    "\n",
    "$$ A \\gamma = b$$\n",
    "\n",
    "this defines the complete linear system.\n",
    "\n",
    "---"
   ]
  },
  {
   "cell_type": "markdown",
   "metadata": {},
   "source": [
    "## Summary\n",
    "\n",
    "Lets review the key concepts:\n",
    "\n",
    "1. The no-slip vortex sheet equation implicitly defines the analytic $\\gamma(s)$, but is highly nonlinear.\n",
    "1. Breaking the sheet up into a set of panels ensures the velocity is a linear function of $\\gamma_i$. \n",
    "1. Applying the no-slip condition to each panel results in a linear system of equations for $\\gamma_i$. \n",
    "\n",
    "Therefore, the solution $\\gamma_i$ of $A\\gamma=b$ is a numerical approximation to the analytic solution $\\gamma(s)$. \n",
    "\n",
    "*This same basic procedure is applied whenever numerically approximating partial differential equations!*\n",
    "\n",
    "---"
   ]
  },
  {
   "cell_type": "markdown",
   "metadata": {},
   "source": [
    "## Implementation\n",
    "\n",
    "We can construct `A` and `b` in only a few lines of code:\n",
    "```python\n",
    "    # construct the matrix `A`\n",
    "    for j, p_j in enumerate(panels):      # loop through columns\n",
    "        fx,fy = p_j.constant(xc,yc)           # f_j at all panel centers\n",
    "        A[:,j] = fx*sx+fy*sy                  # tangential component\n",
    "    np.fill_diagonal(A, 0.5)              # fill diagonal with 1/2\n",
    "\n",
    "    # construct the vector `b`\n",
    "    b = -(np.cos(alpha)*sx+np.sin(alpha)*sy)\n",
    "```\n",
    "\n",
    "That seems like the easy part. After all, this is a dense linear algebra problem. How in the world will we determine `gamma`? \n",
    "\n",
    "In fact, this is trivial:\n",
    "```python\n",
    "    gamma = np.linalg.solve(A, b)\n",
    "```\n",
    "##### Numerical fundamental: Linear Algebra Packages\n",
    "##### Never write your own matrix solver\n",
    "\n",
    "Every worthwhile numerical language has a set of linear algebra solution routines like the [linalg package](http://docs.scipy.org/doc/numpy/reference/routines.linalg.html). Use them!\n",
    "\n",
    "---"
   ]
  },
  {
   "cell_type": "markdown",
   "metadata": {},
   "source": [
    "The function `PanelArray.solve_gamma(alpha=0)` combines the construction and solution code above. After defining __any__ `PanelArray` and an angle of attack `alpha`, this function sets $\\gamma_i$ on each panel such that the no-slip condition is enforced.\n",
    "\n",
    "Let's put all the `VortexPanel` functions together and test them out!"
   ]
  },
  {
   "cell_type": "code",
   "execution_count": null,
   "metadata": {},
   "outputs": [],
   "source": [
    "circle = vp.make_circle(N=10)   #1) define geometry\n",
    "circle.solve_gamma()            #2) solve for gamma\n",
    "circle.plot_flow()              #3) compute flow field and plot"
   ]
  },
  {
   "cell_type": "markdown",
   "metadata": {},
   "source": [
    "Much better! The flow is generally going around the shape. And the flow is (pretty much) stationary within the body. But the external flow doesn't look __exactly__ like the potential flow solution...\n",
    "\n",
    "##### Numerical Fundamental: Convergence with resolution\n",
    "##### The numerical solution is improved by using more panels\n",
    "\n",
    "---"
   ]
  },
  {
   "cell_type": "markdown",
   "metadata": {},
   "source": [
    "## Quantitative testing\n",
    "\n",
    "Let's make this explicitly clear by plotting the distance around the shape $s$ versus $\\gamma$ for a number of resolutions.\n",
    "\n",
    "The function `PanelArray.get_array` lets you get any attribute from the panels. What attributes are there?"
   ]
  },
  {
   "cell_type": "code",
   "execution_count": null,
   "metadata": {
    "scrolled": true
   },
   "outputs": [],
   "source": [
    "help(vp.Panel)"
   ]
  },
  {
   "cell_type": "markdown",
   "metadata": {},
   "source": [
    "So each panel knows all about its geometry (size, location, orrientation) as well as the strength $\\gamma$.\n",
    "\n",
    "Let's try getting this information. Say, the half-width of each panel:"
   ]
  },
  {
   "cell_type": "code",
   "execution_count": null,
   "metadata": {},
   "outputs": [],
   "source": [
    "print(circle.get_array('S'))"
   ]
  },
  {
   "cell_type": "markdown",
   "metadata": {},
   "source": [
    "The `distance` function uses this to get the cumulative distance."
   ]
  },
  {
   "cell_type": "code",
   "execution_count": null,
   "metadata": {},
   "outputs": [],
   "source": [
    "print(getsource(circle.distance))"
   ]
  },
  {
   "cell_type": "markdown",
   "metadata": {},
   "source": [
    "The two functions `get_array` and `distance` are all we need to make a quantitative plot of our results:"
   ]
  },
  {
   "cell_type": "code",
   "execution_count": null,
   "metadata": {},
   "outputs": [],
   "source": [
    "# Exact solution\n",
    "s = np.linspace(0,2*np.pi)\n",
    "plt.plot(s,2*np.sin(s),'k',label='exact')\n",
    "\n",
    "# Loop over resolutions\n",
    "for N in 2**np.arange(6,2,-1):         # N in powers of 2\n",
    "    circle = vp.make_circle(N)         # define geometry\n",
    "    s = circle.distance()              # get distance array\n",
    "\n",
    "    circle.solve_gamma()                # solve for gamma\n",
    "    gamma = circle.get_array('gamma')   # get gamma array\n",
    "    plt.plot(s,gamma,'--',label=N)      # plot\n",
    "\n",
    "# finish gamma(s) plot\n",
    "plt.legend(title='N')\n",
    "plt.xlabel(r'$s$', fontsize=20)\n",
    "plt.ylabel(r'$\\gamma$', fontsize=20, rotation=0)\n",
    "plt.show()"
   ]
  },
  {
   "cell_type": "markdown",
   "metadata": {},
   "source": [
    "All of the results for $N>32$ panels look pretty much identical, meaning our results __converge__ as we increase the number of panels. But we can't judge if the converged solution is __correct__ unless we compare to the known result.\n",
    "\n",
    "##### Numerical fundamental: Validation\n",
    "##### A method is validated by comparing the result to a known solution\n",
    "\n",
    "That's easy in this case. The exact solution from analytic potential flow around a circle is\n",
    "\n",
    "$$\\tilde\\gamma = -\\tilde u_e = 2\\sin\\theta $$\n",
    "\n",
    "which is also in the plot and matches the converged solution perfectly."
   ]
  },
  {
   "cell_type": "markdown",
   "metadata": {},
   "source": [
    "## Other shapes\n",
    "\n",
    "Notice that there was nothing special to the circle in this set-up. By giving a different set of points to `panelize`, we can make any shape we need."
   ]
  },
  {
   "cell_type": "markdown",
   "metadata": {},
   "source": [
    "##### Quiz\n",
    "\n",
    "This vortex panel method can be used to solve for the flow around:\n",
    "\n",
    "1. an ellipse\n",
    "1. a pair of tandem bodies\n",
    "1. a rudder"
   ]
  },
  {
   "cell_type": "markdown",
   "metadata": {},
   "source": [
    "---\n",
    "##### Your turn\n",
    "\n",
    " - ** Modify ** the `make_ellipse` function below to generate an ellipse instead of a circle when supplied with an aspect ratio `t_c`=$t/c$.\n",
    " - ** Discuss ** whether the maximum speed around the ellipse is greater or less than that around the circle.\n",
    " - ** Move ** a 2:1 ellipse geometry by giving it a different center\n",
    " - ** Combine ** the circle and ellipse geometry together into one set of panels using `vp.concatenate` and solve for the flow.\n",
    " - ** Discuss ** if there is a *wake* between the bodies. Why or why not?\n",
    "\n",
    "---\n",
    "\n",
    " \n",
    "##### Solution"
   ]
  },
  {
   "cell_type": "code",
   "execution_count": null,
   "metadata": {},
   "outputs": [],
   "source": [
    "def make_ellipse(N, t_c, xcen=0, ycen=0):\n",
    "    theta = np.linspace(0, -2*np.pi, N+1)\n",
    "    # your code here to define the points for an ellipse\n",
    "    x = xcen+np.cos(theta)  # adjust?\n",
    "    y = ycen+np.sin(theta)  # adjust?\n",
    "    return vp.panelize(x,y)\n",
    "\n",
    "# ellipse = make_ellipse(N=32,t_c=2,xcen=2)     # make the shape\n",
    "# ellipse.solve_gamma()                         # solve for gamma\n",
    "# ellipse.plot_flow(size=4)                     # compute flow field and plot"
   ]
  },
  {
   "cell_type": "code",
   "execution_count": null,
   "metadata": {},
   "outputs": [],
   "source": [
    "# pair = ?   your code using vp.concatenate(a1,a2)"
   ]
  }
 ],
 "metadata": {
  "kernelspec": {
   "display_name": "Python 3",
   "language": "python",
   "name": "python3"
  },
  "language_info": {
   "codemirror_mode": {
    "name": "ipython",
    "version": 3
   },
   "file_extension": ".py",
   "mimetype": "text/x-python",
   "name": "python",
   "nbconvert_exporter": "python",
   "pygments_lexer": "ipython3",
   "version": "3.6.0"
  }
 },
 "nbformat": 4,
 "nbformat_minor": 1
}
